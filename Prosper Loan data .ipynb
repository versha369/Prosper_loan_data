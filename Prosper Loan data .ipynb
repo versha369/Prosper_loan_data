{
  "cells": [
    {
      "cell_type": "markdown",
      "id": "bac3830f",
      "metadata": {
        "id": "bac3830f"
      },
      "source": [
        "# Prosper Loan Data Project"
      ]
    },
    {
      "cell_type": "markdown",
      "id": "ab0991bc",
      "metadata": {
        "id": "ab0991bc"
      },
      "source": [
        "## Import Functions"
      ]
    },
    {
      "cell_type": "code",
      "execution_count": null,
      "id": "a658292f",
      "metadata": {
        "id": "a658292f"
      },
      "outputs": [],
      "source": [
        "import matplotlib.pyplot as plt\n",
        "import matplotlib.colors as mcolors\n",
        "\n",
        "import numpy as np\n",
        "import pandas as pd\n",
        "import seaborn as sns\n",
        "import time\n",
        "\n",
        "from scipy.stats import mode\n",
        "from sklearn import preprocessing\n",
        "from sklearn.preprocessing import OneHotEncoder\n",
        "from sklearn.preprocessing import LabelEncoder"
      ]
    },
    {
      "cell_type": "code",
      "execution_count": null,
      "id": "7d338155",
      "metadata": {
        "id": "7d338155",
        "outputId": "57bfe45d-2f64-417e-ef85-5db88267889c"
      },
      "outputs": [
        {
          "data": {
            "text/plain": [
              "20"
            ]
          },
          "execution_count": 2,
          "metadata": {},
          "output_type": "execute_result"
        }
      ],
      "source": [
        "%matplotlib inline\n",
        "sns.set(context='notebook', style='darkgrid', palette='deep', font='sans-serif', font_scale=1, color_codes=False, rc=None)\n",
        "pd.options.display.max_columns"
      ]
    },
    {
      "cell_type": "markdown",
      "id": "eed84047",
      "metadata": {
        "id": "eed84047"
      },
      "source": [
        "### Make Some important Functions"
      ]
    },
    {
      "cell_type": "code",
      "execution_count": null,
      "id": "8e06cc93",
      "metadata": {
        "id": "8e06cc93"
      },
      "outputs": [],
      "source": [
        "def Mode(x):\n",
        "    return x.mode()[0]\n",
        "\n",
        "def XY_Labels (x,y):\n",
        "    X = plt.xlabel(x, fontsize = 15)\n",
        "    Y = plt.ylabel(y, fontsize = 15)\n",
        "    return (X,Y)\n",
        "\n",
        "def label_encoder(b):\n",
        "    le= preprocessing.LabelEncoder()\n",
        "    return le.fit_transform(b)"
      ]
    },
    {
      "cell_type": "markdown",
      "id": "474f40d7",
      "metadata": {
        "id": "474f40d7"
      },
      "source": [
        "## Data Wrangling"
      ]
    },
    {
      "cell_type": "markdown",
      "id": "f55a9a35",
      "metadata": {
        "id": "f55a9a35"
      },
      "source": [
        "### Load and discover data"
      ]
    },
    {
      "cell_type": "code",
      "execution_count": null,
      "id": "29eecede",
      "metadata": {
        "id": "29eecede",
        "outputId": "96a4a0d4-776b-4a56-fa76-45410e160d63"
      },
      "outputs": [
        {
          "data": {
            "text/html": [
              "<div>\n",
              "<style scoped>\n",
              "    .dataframe tbody tr th:only-of-type {\n",
              "        vertical-align: middle;\n",
              "    }\n",
              "\n",
              "    .dataframe tbody tr th {\n",
              "        vertical-align: top;\n",
              "    }\n",
              "\n",
              "    .dataframe thead th {\n",
              "        text-align: right;\n",
              "    }\n",
              "</style>\n",
              "<table border=\"1\" class=\"dataframe\">\n",
              "  <thead>\n",
              "    <tr style=\"text-align: right;\">\n",
              "      <th></th>\n",
              "      <th>ListingKey</th>\n",
              "      <th>ListingNumber</th>\n",
              "      <th>ListingCreationDate</th>\n",
              "      <th>CreditGrade</th>\n",
              "      <th>Term</th>\n",
              "      <th>LoanStatus</th>\n",
              "      <th>ClosedDate</th>\n",
              "      <th>BorrowerAPR</th>\n",
              "      <th>BorrowerRate</th>\n",
              "      <th>LenderYield</th>\n",
              "      <th>...</th>\n",
              "      <th>LP_ServiceFees</th>\n",
              "      <th>LP_CollectionFees</th>\n",
              "      <th>LP_GrossPrincipalLoss</th>\n",
              "      <th>LP_NetPrincipalLoss</th>\n",
              "      <th>LP_NonPrincipalRecoverypayments</th>\n",
              "      <th>PercentFunded</th>\n",
              "      <th>Recommendations</th>\n",
              "      <th>InvestmentFromFriendsCount</th>\n",
              "      <th>InvestmentFromFriendsAmount</th>\n",
              "      <th>Investors</th>\n",
              "    </tr>\n",
              "  </thead>\n",
              "  <tbody>\n",
              "    <tr>\n",
              "      <th>0</th>\n",
              "      <td>1021339766868145413AB3B</td>\n",
              "      <td>193129</td>\n",
              "      <td>2007-08-26 19:09:29.263000000</td>\n",
              "      <td>C</td>\n",
              "      <td>36</td>\n",
              "      <td>Completed</td>\n",
              "      <td>2009-08-14 00:00:00</td>\n",
              "      <td>0.16516</td>\n",
              "      <td>0.1580</td>\n",
              "      <td>0.1380</td>\n",
              "      <td>...</td>\n",
              "      <td>-133.18</td>\n",
              "      <td>0.0</td>\n",
              "      <td>0.0</td>\n",
              "      <td>0.0</td>\n",
              "      <td>0.0</td>\n",
              "      <td>1.0</td>\n",
              "      <td>0</td>\n",
              "      <td>0</td>\n",
              "      <td>0.0</td>\n",
              "      <td>258</td>\n",
              "    </tr>\n",
              "    <tr>\n",
              "      <th>1</th>\n",
              "      <td>10273602499503308B223C1</td>\n",
              "      <td>1209647</td>\n",
              "      <td>2014-02-27 08:28:07.900000000</td>\n",
              "      <td>NaN</td>\n",
              "      <td>36</td>\n",
              "      <td>Current</td>\n",
              "      <td>NaN</td>\n",
              "      <td>0.12016</td>\n",
              "      <td>0.0920</td>\n",
              "      <td>0.0820</td>\n",
              "      <td>...</td>\n",
              "      <td>0.00</td>\n",
              "      <td>0.0</td>\n",
              "      <td>0.0</td>\n",
              "      <td>0.0</td>\n",
              "      <td>0.0</td>\n",
              "      <td>1.0</td>\n",
              "      <td>0</td>\n",
              "      <td>0</td>\n",
              "      <td>0.0</td>\n",
              "      <td>1</td>\n",
              "    </tr>\n",
              "    <tr>\n",
              "      <th>2</th>\n",
              "      <td>0EE9337825851032864889A</td>\n",
              "      <td>81716</td>\n",
              "      <td>2007-01-05 15:00:47.090000000</td>\n",
              "      <td>HR</td>\n",
              "      <td>36</td>\n",
              "      <td>Completed</td>\n",
              "      <td>2009-12-17 00:00:00</td>\n",
              "      <td>0.28269</td>\n",
              "      <td>0.2750</td>\n",
              "      <td>0.2400</td>\n",
              "      <td>...</td>\n",
              "      <td>-24.20</td>\n",
              "      <td>0.0</td>\n",
              "      <td>0.0</td>\n",
              "      <td>0.0</td>\n",
              "      <td>0.0</td>\n",
              "      <td>1.0</td>\n",
              "      <td>0</td>\n",
              "      <td>0</td>\n",
              "      <td>0.0</td>\n",
              "      <td>41</td>\n",
              "    </tr>\n",
              "    <tr>\n",
              "      <th>3</th>\n",
              "      <td>0EF5356002482715299901A</td>\n",
              "      <td>658116</td>\n",
              "      <td>2012-10-22 11:02:35.010000000</td>\n",
              "      <td>NaN</td>\n",
              "      <td>36</td>\n",
              "      <td>Current</td>\n",
              "      <td>NaN</td>\n",
              "      <td>0.12528</td>\n",
              "      <td>0.0974</td>\n",
              "      <td>0.0874</td>\n",
              "      <td>...</td>\n",
              "      <td>-108.01</td>\n",
              "      <td>0.0</td>\n",
              "      <td>0.0</td>\n",
              "      <td>0.0</td>\n",
              "      <td>0.0</td>\n",
              "      <td>1.0</td>\n",
              "      <td>0</td>\n",
              "      <td>0</td>\n",
              "      <td>0.0</td>\n",
              "      <td>158</td>\n",
              "    </tr>\n",
              "    <tr>\n",
              "      <th>4</th>\n",
              "      <td>0F023589499656230C5E3E2</td>\n",
              "      <td>909464</td>\n",
              "      <td>2013-09-14 18:38:39.097000000</td>\n",
              "      <td>NaN</td>\n",
              "      <td>36</td>\n",
              "      <td>Current</td>\n",
              "      <td>NaN</td>\n",
              "      <td>0.24614</td>\n",
              "      <td>0.2085</td>\n",
              "      <td>0.1985</td>\n",
              "      <td>...</td>\n",
              "      <td>-60.27</td>\n",
              "      <td>0.0</td>\n",
              "      <td>0.0</td>\n",
              "      <td>0.0</td>\n",
              "      <td>0.0</td>\n",
              "      <td>1.0</td>\n",
              "      <td>0</td>\n",
              "      <td>0</td>\n",
              "      <td>0.0</td>\n",
              "      <td>20</td>\n",
              "    </tr>\n",
              "    <tr>\n",
              "      <th>5</th>\n",
              "      <td>0F05359734824199381F61D</td>\n",
              "      <td>1074836</td>\n",
              "      <td>2013-12-14 08:26:37.093000000</td>\n",
              "      <td>NaN</td>\n",
              "      <td>60</td>\n",
              "      <td>Current</td>\n",
              "      <td>NaN</td>\n",
              "      <td>0.15425</td>\n",
              "      <td>0.1314</td>\n",
              "      <td>0.1214</td>\n",
              "      <td>...</td>\n",
              "      <td>-25.33</td>\n",
              "      <td>0.0</td>\n",
              "      <td>0.0</td>\n",
              "      <td>0.0</td>\n",
              "      <td>0.0</td>\n",
              "      <td>1.0</td>\n",
              "      <td>0</td>\n",
              "      <td>0</td>\n",
              "      <td>0.0</td>\n",
              "      <td>1</td>\n",
              "    </tr>\n",
              "    <tr>\n",
              "      <th>6</th>\n",
              "      <td>0F0A3576754255009D63151</td>\n",
              "      <td>750899</td>\n",
              "      <td>2013-04-12 09:52:56.147000000</td>\n",
              "      <td>NaN</td>\n",
              "      <td>36</td>\n",
              "      <td>Current</td>\n",
              "      <td>NaN</td>\n",
              "      <td>0.31032</td>\n",
              "      <td>0.2712</td>\n",
              "      <td>0.2612</td>\n",
              "      <td>...</td>\n",
              "      <td>-22.95</td>\n",
              "      <td>0.0</td>\n",
              "      <td>0.0</td>\n",
              "      <td>0.0</td>\n",
              "      <td>0.0</td>\n",
              "      <td>1.0</td>\n",
              "      <td>0</td>\n",
              "      <td>0</td>\n",
              "      <td>0.0</td>\n",
              "      <td>1</td>\n",
              "    </tr>\n",
              "  </tbody>\n",
              "</table>\n",
              "<p>7 rows × 81 columns</p>\n",
              "</div>"
            ],
            "text/plain": [
              "                ListingKey  ListingNumber            ListingCreationDate  \\\n",
              "0  1021339766868145413AB3B         193129  2007-08-26 19:09:29.263000000   \n",
              "1  10273602499503308B223C1        1209647  2014-02-27 08:28:07.900000000   \n",
              "2  0EE9337825851032864889A          81716  2007-01-05 15:00:47.090000000   \n",
              "3  0EF5356002482715299901A         658116  2012-10-22 11:02:35.010000000   \n",
              "4  0F023589499656230C5E3E2         909464  2013-09-14 18:38:39.097000000   \n",
              "5  0F05359734824199381F61D        1074836  2013-12-14 08:26:37.093000000   \n",
              "6  0F0A3576754255009D63151         750899  2013-04-12 09:52:56.147000000   \n",
              "\n",
              "  CreditGrade  Term LoanStatus           ClosedDate  BorrowerAPR  \\\n",
              "0           C    36  Completed  2009-08-14 00:00:00      0.16516   \n",
              "1         NaN    36    Current                  NaN      0.12016   \n",
              "2          HR    36  Completed  2009-12-17 00:00:00      0.28269   \n",
              "3         NaN    36    Current                  NaN      0.12528   \n",
              "4         NaN    36    Current                  NaN      0.24614   \n",
              "5         NaN    60    Current                  NaN      0.15425   \n",
              "6         NaN    36    Current                  NaN      0.31032   \n",
              "\n",
              "   BorrowerRate  LenderYield  ...  LP_ServiceFees  LP_CollectionFees  \\\n",
              "0        0.1580       0.1380  ...         -133.18                0.0   \n",
              "1        0.0920       0.0820  ...            0.00                0.0   \n",
              "2        0.2750       0.2400  ...          -24.20                0.0   \n",
              "3        0.0974       0.0874  ...         -108.01                0.0   \n",
              "4        0.2085       0.1985  ...          -60.27                0.0   \n",
              "5        0.1314       0.1214  ...          -25.33                0.0   \n",
              "6        0.2712       0.2612  ...          -22.95                0.0   \n",
              "\n",
              "   LP_GrossPrincipalLoss  LP_NetPrincipalLoss LP_NonPrincipalRecoverypayments  \\\n",
              "0                    0.0                  0.0                             0.0   \n",
              "1                    0.0                  0.0                             0.0   \n",
              "2                    0.0                  0.0                             0.0   \n",
              "3                    0.0                  0.0                             0.0   \n",
              "4                    0.0                  0.0                             0.0   \n",
              "5                    0.0                  0.0                             0.0   \n",
              "6                    0.0                  0.0                             0.0   \n",
              "\n",
              "   PercentFunded  Recommendations InvestmentFromFriendsCount  \\\n",
              "0            1.0                0                          0   \n",
              "1            1.0                0                          0   \n",
              "2            1.0                0                          0   \n",
              "3            1.0                0                          0   \n",
              "4            1.0                0                          0   \n",
              "5            1.0                0                          0   \n",
              "6            1.0                0                          0   \n",
              "\n",
              "  InvestmentFromFriendsAmount Investors  \n",
              "0                         0.0       258  \n",
              "1                         0.0         1  \n",
              "2                         0.0        41  \n",
              "3                         0.0       158  \n",
              "4                         0.0        20  \n",
              "5                         0.0         1  \n",
              "6                         0.0         1  \n",
              "\n",
              "[7 rows x 81 columns]"
            ]
          },
          "execution_count": 4,
          "metadata": {},
          "output_type": "execute_result"
        }
      ],
      "source": [
        "df = pd.read_csv('prosperLoanData.csv')\n",
        "df.head(7)"
      ]
    },
    {
      "cell_type": "code",
      "execution_count": null,
      "id": "06752096",
      "metadata": {
        "id": "06752096",
        "outputId": "30796c09-9c71-4221-e013-ae04fd26c505"
      },
      "outputs": [
        {
          "name": "stdout",
          "output_type": "stream",
          "text": [
            "(113937, 81)\n"
          ]
        }
      ],
      "source": [
        "print(df.shape)"
      ]
    },
    {
      "cell_type": "code",
      "execution_count": null,
      "id": "543cd81e",
      "metadata": {
        "id": "543cd81e",
        "outputId": "7d2c954e-8b99-43d5-e276-b0f9edafc7fc"
      },
      "outputs": [
        {
          "name": "stdout",
          "output_type": "stream",
          "text": [
            "<class 'pandas.core.frame.DataFrame'>\n",
            "RangeIndex: 113937 entries, 0 to 113936\n",
            "Data columns (total 81 columns):\n",
            " #   Column                               Non-Null Count   Dtype  \n",
            "---  ------                               --------------   -----  \n",
            " 0   ListingKey                           113937 non-null  object \n",
            " 1   ListingNumber                        113937 non-null  int64  \n",
            " 2   ListingCreationDate                  113937 non-null  object \n",
            " 3   CreditGrade                          28953 non-null   object \n",
            " 4   Term                                 113937 non-null  int64  \n",
            " 5   LoanStatus                           113937 non-null  object \n",
            " 6   ClosedDate                           55089 non-null   object \n",
            " 7   BorrowerAPR                          113912 non-null  float64\n",
            " 8   BorrowerRate                         113937 non-null  float64\n",
            " 9   LenderYield                          113937 non-null  float64\n",
            " 10  EstimatedEffectiveYield              84853 non-null   float64\n",
            " 11  EstimatedLoss                        84853 non-null   float64\n",
            " 12  EstimatedReturn                      84853 non-null   float64\n",
            " 13  ProsperRating (numeric)              84853 non-null   float64\n",
            " 14  ProsperRating (Alpha)                84853 non-null   object \n",
            " 15  ProsperScore                         84853 non-null   float64\n",
            " 16  ListingCategory (numeric)            113937 non-null  int64  \n",
            " 17  BorrowerState                        108422 non-null  object \n",
            " 18  Occupation                           110349 non-null  object \n",
            " 19  EmploymentStatus                     111682 non-null  object \n",
            " 20  EmploymentStatusDuration             106312 non-null  float64\n",
            " 21  IsBorrowerHomeowner                  113937 non-null  bool   \n",
            " 22  CurrentlyInGroup                     113937 non-null  bool   \n",
            " 23  GroupKey                             13341 non-null   object \n",
            " 24  DateCreditPulled                     113937 non-null  object \n",
            " 25  CreditScoreRangeLower                113346 non-null  float64\n",
            " 26  CreditScoreRangeUpper                113346 non-null  float64\n",
            " 27  FirstRecordedCreditLine              113240 non-null  object \n",
            " 28  CurrentCreditLines                   106333 non-null  float64\n",
            " 29  OpenCreditLines                      106333 non-null  float64\n",
            " 30  TotalCreditLinespast7years           113240 non-null  float64\n",
            " 31  OpenRevolvingAccounts                113937 non-null  int64  \n",
            " 32  OpenRevolvingMonthlyPayment          113937 non-null  float64\n",
            " 33  InquiriesLast6Months                 113240 non-null  float64\n",
            " 34  TotalInquiries                       112778 non-null  float64\n",
            " 35  CurrentDelinquencies                 113240 non-null  float64\n",
            " 36  AmountDelinquent                     106315 non-null  float64\n",
            " 37  DelinquenciesLast7Years              112947 non-null  float64\n",
            " 38  PublicRecordsLast10Years             113240 non-null  float64\n",
            " 39  PublicRecordsLast12Months            106333 non-null  float64\n",
            " 40  RevolvingCreditBalance               106333 non-null  float64\n",
            " 41  BankcardUtilization                  106333 non-null  float64\n",
            " 42  AvailableBankcardCredit              106393 non-null  float64\n",
            " 43  TotalTrades                          106393 non-null  float64\n",
            " 44  TradesNeverDelinquent (percentage)   106393 non-null  float64\n",
            " 45  TradesOpenedLast6Months              106393 non-null  float64\n",
            " 46  DebtToIncomeRatio                    105383 non-null  float64\n",
            " 47  IncomeRange                          113937 non-null  object \n",
            " 48  IncomeVerifiable                     113937 non-null  bool   \n",
            " 49  StatedMonthlyIncome                  113937 non-null  float64\n",
            " 50  LoanKey                              113937 non-null  object \n",
            " 51  TotalProsperLoans                    22085 non-null   float64\n",
            " 52  TotalProsperPaymentsBilled           22085 non-null   float64\n",
            " 53  OnTimeProsperPayments                22085 non-null   float64\n",
            " 54  ProsperPaymentsLessThanOneMonthLate  22085 non-null   float64\n",
            " 55  ProsperPaymentsOneMonthPlusLate      22085 non-null   float64\n",
            " 56  ProsperPrincipalBorrowed             22085 non-null   float64\n",
            " 57  ProsperPrincipalOutstanding          22085 non-null   float64\n",
            " 58  ScorexChangeAtTimeOfListing          18928 non-null   float64\n",
            " 59  LoanCurrentDaysDelinquent            113937 non-null  int64  \n",
            " 60  LoanFirstDefaultedCycleNumber        16952 non-null   float64\n",
            " 61  LoanMonthsSinceOrigination           113937 non-null  int64  \n",
            " 62  LoanNumber                           113937 non-null  int64  \n",
            " 63  LoanOriginalAmount                   113937 non-null  int64  \n",
            " 64  LoanOriginationDate                  113937 non-null  object \n",
            " 65  LoanOriginationQuarter               113937 non-null  object \n",
            " 66  MemberKey                            113937 non-null  object \n",
            " 67  MonthlyLoanPayment                   113937 non-null  float64\n",
            " 68  LP_CustomerPayments                  113937 non-null  float64\n",
            " 69  LP_CustomerPrincipalPayments         113937 non-null  float64\n",
            " 70  LP_InterestandFees                   113937 non-null  float64\n",
            " 71  LP_ServiceFees                       113937 non-null  float64\n",
            " 72  LP_CollectionFees                    113937 non-null  float64\n",
            " 73  LP_GrossPrincipalLoss                113937 non-null  float64\n",
            " 74  LP_NetPrincipalLoss                  113937 non-null  float64\n",
            " 75  LP_NonPrincipalRecoverypayments      113937 non-null  float64\n",
            " 76  PercentFunded                        113937 non-null  float64\n",
            " 77  Recommendations                      113937 non-null  int64  \n",
            " 78  InvestmentFromFriendsCount           113937 non-null  int64  \n",
            " 79  InvestmentFromFriendsAmount          113937 non-null  float64\n",
            " 80  Investors                            113937 non-null  int64  \n",
            "dtypes: bool(3), float64(50), int64(11), object(17)\n",
            "memory usage: 68.1+ MB\n"
          ]
        }
      ],
      "source": [
        "df.info()"
      ]
    },
    {
      "cell_type": "code",
      "execution_count": null,
      "id": "c46c0c8e",
      "metadata": {
        "id": "c46c0c8e",
        "outputId": "3e00ffb9-fb11-4cce-fde3-8a60b6cc640a"
      },
      "outputs": [
        {
          "name": "stdout",
          "output_type": "stream",
          "text": [
            "Index(['ListingKey', 'ListingNumber', 'ListingCreationDate', 'CreditGrade',\n",
            "       'Term', 'LoanStatus', 'ClosedDate', 'BorrowerAPR', 'BorrowerRate',\n",
            "       'LenderYield', 'EstimatedEffectiveYield', 'EstimatedLoss',\n",
            "       'EstimatedReturn', 'ProsperRating (numeric)', 'ProsperRating (Alpha)',\n",
            "       'ProsperScore', 'ListingCategory (numeric)', 'BorrowerState',\n",
            "       'Occupation', 'EmploymentStatus', 'EmploymentStatusDuration',\n",
            "       'IsBorrowerHomeowner', 'CurrentlyInGroup', 'GroupKey',\n",
            "       'DateCreditPulled', 'CreditScoreRangeLower', 'CreditScoreRangeUpper',\n",
            "       'FirstRecordedCreditLine', 'CurrentCreditLines', 'OpenCreditLines',\n",
            "       'TotalCreditLinespast7years', 'OpenRevolvingAccounts',\n",
            "       'OpenRevolvingMonthlyPayment', 'InquiriesLast6Months', 'TotalInquiries',\n",
            "       'CurrentDelinquencies', 'AmountDelinquent', 'DelinquenciesLast7Years',\n",
            "       'PublicRecordsLast10Years', 'PublicRecordsLast12Months',\n",
            "       'RevolvingCreditBalance', 'BankcardUtilization',\n",
            "       'AvailableBankcardCredit', 'TotalTrades',\n",
            "       'TradesNeverDelinquent (percentage)', 'TradesOpenedLast6Months',\n",
            "       'DebtToIncomeRatio', 'IncomeRange', 'IncomeVerifiable',\n",
            "       'StatedMonthlyIncome', 'LoanKey', 'TotalProsperLoans',\n",
            "       'TotalProsperPaymentsBilled', 'OnTimeProsperPayments',\n",
            "       'ProsperPaymentsLessThanOneMonthLate',\n",
            "       'ProsperPaymentsOneMonthPlusLate', 'ProsperPrincipalBorrowed',\n",
            "       'ProsperPrincipalOutstanding', 'ScorexChangeAtTimeOfListing',\n",
            "       'LoanCurrentDaysDelinquent', 'LoanFirstDefaultedCycleNumber',\n",
            "       'LoanMonthsSinceOrigination', 'LoanNumber', 'LoanOriginalAmount',\n",
            "       'LoanOriginationDate', 'LoanOriginationQuarter', 'MemberKey',\n",
            "       'MonthlyLoanPayment', 'LP_CustomerPayments',\n",
            "       'LP_CustomerPrincipalPayments', 'LP_InterestandFees', 'LP_ServiceFees',\n",
            "       'LP_CollectionFees', 'LP_GrossPrincipalLoss', 'LP_NetPrincipalLoss',\n",
            "       'LP_NonPrincipalRecoverypayments', 'PercentFunded', 'Recommendations',\n",
            "       'InvestmentFromFriendsCount', 'InvestmentFromFriendsAmount',\n",
            "       'Investors'],\n",
            "      dtype='object')\n"
          ]
        }
      ],
      "source": [
        "print(df.columns)"
      ]
    },
    {
      "cell_type": "markdown",
      "id": "e152a6c9",
      "metadata": {
        "id": "e152a6c9"
      },
      "source": [
        "### Make a new df with the important columns i will use"
      ]
    },
    {
      "cell_type": "code",
      "execution_count": null,
      "id": "82f6bc65",
      "metadata": {
        "id": "82f6bc65",
        "outputId": "41ecc439-6dc2-424f-e965-5fdcdd218288"
      },
      "outputs": [
        {
          "name": "stdout",
          "output_type": "stream",
          "text": [
            "<class 'pandas.core.frame.DataFrame'>\n",
            "RangeIndex: 113937 entries, 0 to 113936\n",
            "Data columns (total 23 columns):\n",
            " #   Column                     Non-Null Count   Dtype  \n",
            "---  ------                     --------------   -----  \n",
            " 0   ListingNumber              113937 non-null  int64  \n",
            " 1   ListingCreationDate        113937 non-null  object \n",
            " 2   Term                       113937 non-null  int64  \n",
            " 3   LoanStatus                 113937 non-null  object \n",
            " 4   BorrowerAPR                113912 non-null  float64\n",
            " 5   BorrowerRate               113937 non-null  float64\n",
            " 6   ProsperRating (Alpha)      84853 non-null   object \n",
            " 7   ProsperScore               84853 non-null   float64\n",
            " 8   ListingCategory (numeric)  113937 non-null  int64  \n",
            " 9   BorrowerState              108422 non-null  object \n",
            " 10  Occupation                 110349 non-null  object \n",
            " 11  EmploymentStatus           111682 non-null  object \n",
            " 12  IsBorrowerHomeowner        113937 non-null  bool   \n",
            " 13  CreditScoreRangeLower      113346 non-null  float64\n",
            " 14  CreditScoreRangeUpper      113346 non-null  float64\n",
            " 15  CurrentCreditLines         106333 non-null  float64\n",
            " 16  OpenRevolvingAccounts      113937 non-null  int64  \n",
            " 17  DebtToIncomeRatio          105383 non-null  float64\n",
            " 18  IncomeRange                113937 non-null  object \n",
            " 19  IncomeVerifiable           113937 non-null  bool   \n",
            " 20  StatedMonthlyIncome        113937 non-null  float64\n",
            " 21  LoanOriginalAmount         113937 non-null  int64  \n",
            " 22  LoanOriginationDate        113937 non-null  object \n",
            "dtypes: bool(2), float64(8), int64(5), object(8)\n",
            "memory usage: 18.5+ MB\n"
          ]
        }
      ],
      "source": [
        "new_df = df[['ListingNumber', 'ListingCreationDate', 'Term', 'LoanStatus', 'BorrowerAPR', 'BorrowerRate',\n",
        "        'ProsperRating (Alpha)', 'ProsperScore', 'ListingCategory (numeric)', 'BorrowerState', 'Occupation',\n",
        "        'EmploymentStatus', 'IsBorrowerHomeowner', 'CreditScoreRangeLower', 'CreditScoreRangeUpper', 'CurrentCreditLines',\n",
        "        'OpenRevolvingAccounts', 'DebtToIncomeRatio', 'IncomeRange', 'IncomeVerifiable', 'StatedMonthlyIncome',\n",
        "        'LoanOriginalAmount', 'LoanOriginationDate']].copy()\n",
        "new_df.info()"
      ]
    },
    {
      "cell_type": "code",
      "execution_count": null,
      "id": "da94818b",
      "metadata": {
        "id": "da94818b",
        "outputId": "d2f5539f-24dd-4964-e191-e726679b8586"
      },
      "outputs": [
        {
          "data": {
            "text/html": [
              "<div>\n",
              "<style scoped>\n",
              "    .dataframe tbody tr th:only-of-type {\n",
              "        vertical-align: middle;\n",
              "    }\n",
              "\n",
              "    .dataframe tbody tr th {\n",
              "        vertical-align: top;\n",
              "    }\n",
              "\n",
              "    .dataframe thead th {\n",
              "        text-align: right;\n",
              "    }\n",
              "</style>\n",
              "<table border=\"1\" class=\"dataframe\">\n",
              "  <thead>\n",
              "    <tr style=\"text-align: right;\">\n",
              "      <th></th>\n",
              "      <th>ListingNumber</th>\n",
              "      <th>ListingCreationDate</th>\n",
              "      <th>Term</th>\n",
              "      <th>LoanStatus</th>\n",
              "      <th>BorrowerAPR</th>\n",
              "      <th>BorrowerRate</th>\n",
              "      <th>ProsperRating (Alpha)</th>\n",
              "      <th>ProsperScore</th>\n",
              "      <th>ListingCategory (numeric)</th>\n",
              "      <th>BorrowerState</th>\n",
              "      <th>...</th>\n",
              "      <th>CreditScoreRangeLower</th>\n",
              "      <th>CreditScoreRangeUpper</th>\n",
              "      <th>CurrentCreditLines</th>\n",
              "      <th>OpenRevolvingAccounts</th>\n",
              "      <th>DebtToIncomeRatio</th>\n",
              "      <th>IncomeRange</th>\n",
              "      <th>IncomeVerifiable</th>\n",
              "      <th>StatedMonthlyIncome</th>\n",
              "      <th>LoanOriginalAmount</th>\n",
              "      <th>LoanOriginationDate</th>\n",
              "    </tr>\n",
              "  </thead>\n",
              "  <tbody>\n",
              "    <tr>\n",
              "      <th>0</th>\n",
              "      <td>193129</td>\n",
              "      <td>2007-08-26 19:09:29.263000000</td>\n",
              "      <td>36</td>\n",
              "      <td>Completed</td>\n",
              "      <td>0.16516</td>\n",
              "      <td>0.1580</td>\n",
              "      <td>NaN</td>\n",
              "      <td>NaN</td>\n",
              "      <td>0</td>\n",
              "      <td>CO</td>\n",
              "      <td>...</td>\n",
              "      <td>640.0</td>\n",
              "      <td>659.0</td>\n",
              "      <td>5.0</td>\n",
              "      <td>1</td>\n",
              "      <td>0.17</td>\n",
              "      <td>$25,000-49,999</td>\n",
              "      <td>True</td>\n",
              "      <td>3083.333333</td>\n",
              "      <td>9425</td>\n",
              "      <td>2007-09-12 00:00:00</td>\n",
              "    </tr>\n",
              "    <tr>\n",
              "      <th>1</th>\n",
              "      <td>1209647</td>\n",
              "      <td>2014-02-27 08:28:07.900000000</td>\n",
              "      <td>36</td>\n",
              "      <td>Current</td>\n",
              "      <td>0.12016</td>\n",
              "      <td>0.0920</td>\n",
              "      <td>A</td>\n",
              "      <td>7.0</td>\n",
              "      <td>2</td>\n",
              "      <td>CO</td>\n",
              "      <td>...</td>\n",
              "      <td>680.0</td>\n",
              "      <td>699.0</td>\n",
              "      <td>14.0</td>\n",
              "      <td>13</td>\n",
              "      <td>0.18</td>\n",
              "      <td>$50,000-74,999</td>\n",
              "      <td>True</td>\n",
              "      <td>6125.000000</td>\n",
              "      <td>10000</td>\n",
              "      <td>2014-03-03 00:00:00</td>\n",
              "    </tr>\n",
              "    <tr>\n",
              "      <th>2</th>\n",
              "      <td>81716</td>\n",
              "      <td>2007-01-05 15:00:47.090000000</td>\n",
              "      <td>36</td>\n",
              "      <td>Completed</td>\n",
              "      <td>0.28269</td>\n",
              "      <td>0.2750</td>\n",
              "      <td>NaN</td>\n",
              "      <td>NaN</td>\n",
              "      <td>0</td>\n",
              "      <td>GA</td>\n",
              "      <td>...</td>\n",
              "      <td>480.0</td>\n",
              "      <td>499.0</td>\n",
              "      <td>NaN</td>\n",
              "      <td>0</td>\n",
              "      <td>0.06</td>\n",
              "      <td>Not displayed</td>\n",
              "      <td>True</td>\n",
              "      <td>2083.333333</td>\n",
              "      <td>3001</td>\n",
              "      <td>2007-01-17 00:00:00</td>\n",
              "    </tr>\n",
              "    <tr>\n",
              "      <th>3</th>\n",
              "      <td>658116</td>\n",
              "      <td>2012-10-22 11:02:35.010000000</td>\n",
              "      <td>36</td>\n",
              "      <td>Current</td>\n",
              "      <td>0.12528</td>\n",
              "      <td>0.0974</td>\n",
              "      <td>A</td>\n",
              "      <td>9.0</td>\n",
              "      <td>16</td>\n",
              "      <td>GA</td>\n",
              "      <td>...</td>\n",
              "      <td>800.0</td>\n",
              "      <td>819.0</td>\n",
              "      <td>5.0</td>\n",
              "      <td>7</td>\n",
              "      <td>0.15</td>\n",
              "      <td>$25,000-49,999</td>\n",
              "      <td>True</td>\n",
              "      <td>2875.000000</td>\n",
              "      <td>10000</td>\n",
              "      <td>2012-11-01 00:00:00</td>\n",
              "    </tr>\n",
              "    <tr>\n",
              "      <th>4</th>\n",
              "      <td>909464</td>\n",
              "      <td>2013-09-14 18:38:39.097000000</td>\n",
              "      <td>36</td>\n",
              "      <td>Current</td>\n",
              "      <td>0.24614</td>\n",
              "      <td>0.2085</td>\n",
              "      <td>D</td>\n",
              "      <td>4.0</td>\n",
              "      <td>2</td>\n",
              "      <td>MN</td>\n",
              "      <td>...</td>\n",
              "      <td>680.0</td>\n",
              "      <td>699.0</td>\n",
              "      <td>19.0</td>\n",
              "      <td>6</td>\n",
              "      <td>0.26</td>\n",
              "      <td>$100,000+</td>\n",
              "      <td>True</td>\n",
              "      <td>9583.333333</td>\n",
              "      <td>15000</td>\n",
              "      <td>2013-09-20 00:00:00</td>\n",
              "    </tr>\n",
              "    <tr>\n",
              "      <th>5</th>\n",
              "      <td>1074836</td>\n",
              "      <td>2013-12-14 08:26:37.093000000</td>\n",
              "      <td>60</td>\n",
              "      <td>Current</td>\n",
              "      <td>0.15425</td>\n",
              "      <td>0.1314</td>\n",
              "      <td>B</td>\n",
              "      <td>10.0</td>\n",
              "      <td>1</td>\n",
              "      <td>NM</td>\n",
              "      <td>...</td>\n",
              "      <td>740.0</td>\n",
              "      <td>759.0</td>\n",
              "      <td>21.0</td>\n",
              "      <td>13</td>\n",
              "      <td>0.36</td>\n",
              "      <td>$100,000+</td>\n",
              "      <td>True</td>\n",
              "      <td>8333.333333</td>\n",
              "      <td>15000</td>\n",
              "      <td>2013-12-24 00:00:00</td>\n",
              "    </tr>\n",
              "    <tr>\n",
              "      <th>6</th>\n",
              "      <td>750899</td>\n",
              "      <td>2013-04-12 09:52:56.147000000</td>\n",
              "      <td>36</td>\n",
              "      <td>Current</td>\n",
              "      <td>0.31032</td>\n",
              "      <td>0.2712</td>\n",
              "      <td>E</td>\n",
              "      <td>2.0</td>\n",
              "      <td>1</td>\n",
              "      <td>KS</td>\n",
              "      <td>...</td>\n",
              "      <td>680.0</td>\n",
              "      <td>699.0</td>\n",
              "      <td>10.0</td>\n",
              "      <td>6</td>\n",
              "      <td>0.27</td>\n",
              "      <td>$25,000-49,999</td>\n",
              "      <td>True</td>\n",
              "      <td>2083.333333</td>\n",
              "      <td>3000</td>\n",
              "      <td>2013-04-18 00:00:00</td>\n",
              "    </tr>\n",
              "  </tbody>\n",
              "</table>\n",
              "<p>7 rows × 23 columns</p>\n",
              "</div>"
            ],
            "text/plain": [
              "   ListingNumber            ListingCreationDate  Term LoanStatus  BorrowerAPR  \\\n",
              "0         193129  2007-08-26 19:09:29.263000000    36  Completed      0.16516   \n",
              "1        1209647  2014-02-27 08:28:07.900000000    36    Current      0.12016   \n",
              "2          81716  2007-01-05 15:00:47.090000000    36  Completed      0.28269   \n",
              "3         658116  2012-10-22 11:02:35.010000000    36    Current      0.12528   \n",
              "4         909464  2013-09-14 18:38:39.097000000    36    Current      0.24614   \n",
              "5        1074836  2013-12-14 08:26:37.093000000    60    Current      0.15425   \n",
              "6         750899  2013-04-12 09:52:56.147000000    36    Current      0.31032   \n",
              "\n",
              "   BorrowerRate ProsperRating (Alpha)  ProsperScore  \\\n",
              "0        0.1580                   NaN           NaN   \n",
              "1        0.0920                     A           7.0   \n",
              "2        0.2750                   NaN           NaN   \n",
              "3        0.0974                     A           9.0   \n",
              "4        0.2085                     D           4.0   \n",
              "5        0.1314                     B          10.0   \n",
              "6        0.2712                     E           2.0   \n",
              "\n",
              "   ListingCategory (numeric) BorrowerState  ... CreditScoreRangeLower  \\\n",
              "0                          0            CO  ...                 640.0   \n",
              "1                          2            CO  ...                 680.0   \n",
              "2                          0            GA  ...                 480.0   \n",
              "3                         16            GA  ...                 800.0   \n",
              "4                          2            MN  ...                 680.0   \n",
              "5                          1            NM  ...                 740.0   \n",
              "6                          1            KS  ...                 680.0   \n",
              "\n",
              "  CreditScoreRangeUpper  CurrentCreditLines  OpenRevolvingAccounts  \\\n",
              "0                 659.0                 5.0                      1   \n",
              "1                 699.0                14.0                     13   \n",
              "2                 499.0                 NaN                      0   \n",
              "3                 819.0                 5.0                      7   \n",
              "4                 699.0                19.0                      6   \n",
              "5                 759.0                21.0                     13   \n",
              "6                 699.0                10.0                      6   \n",
              "\n",
              "   DebtToIncomeRatio     IncomeRange  IncomeVerifiable  StatedMonthlyIncome  \\\n",
              "0               0.17  $25,000-49,999              True          3083.333333   \n",
              "1               0.18  $50,000-74,999              True          6125.000000   \n",
              "2               0.06   Not displayed              True          2083.333333   \n",
              "3               0.15  $25,000-49,999              True          2875.000000   \n",
              "4               0.26       $100,000+              True          9583.333333   \n",
              "5               0.36       $100,000+              True          8333.333333   \n",
              "6               0.27  $25,000-49,999              True          2083.333333   \n",
              "\n",
              "  LoanOriginalAmount  LoanOriginationDate  \n",
              "0               9425  2007-09-12 00:00:00  \n",
              "1              10000  2014-03-03 00:00:00  \n",
              "2               3001  2007-01-17 00:00:00  \n",
              "3              10000  2012-11-01 00:00:00  \n",
              "4              15000  2013-09-20 00:00:00  \n",
              "5              15000  2013-12-24 00:00:00  \n",
              "6               3000  2013-04-18 00:00:00  \n",
              "\n",
              "[7 rows x 23 columns]"
            ]
          },
          "execution_count": 9,
          "metadata": {},
          "output_type": "execute_result"
        }
      ],
      "source": [
        "new_df.head(7)"
      ]
    },
    {
      "cell_type": "code",
      "execution_count": null,
      "id": "89beea94",
      "metadata": {
        "id": "89beea94",
        "outputId": "da80f9b0-aec6-4692-fa8d-569263b00e22"
      },
      "outputs": [
        {
          "data": {
            "text/html": [
              "<div>\n",
              "<style scoped>\n",
              "    .dataframe tbody tr th:only-of-type {\n",
              "        vertical-align: middle;\n",
              "    }\n",
              "\n",
              "    .dataframe tbody tr th {\n",
              "        vertical-align: top;\n",
              "    }\n",
              "\n",
              "    .dataframe thead th {\n",
              "        text-align: right;\n",
              "    }\n",
              "</style>\n",
              "<table border=\"1\" class=\"dataframe\">\n",
              "  <thead>\n",
              "    <tr style=\"text-align: right;\">\n",
              "      <th></th>\n",
              "      <th>BorrowerState</th>\n",
              "      <th>Occupation</th>\n",
              "      <th>EmploymentStatus</th>\n",
              "      <th>IsBorrowerHomeowner</th>\n",
              "      <th>CreditScoreRangeLower</th>\n",
              "    </tr>\n",
              "  </thead>\n",
              "  <tbody>\n",
              "    <tr>\n",
              "      <th>0</th>\n",
              "      <td>CO</td>\n",
              "      <td>Other</td>\n",
              "      <td>Self-employed</td>\n",
              "      <td>True</td>\n",
              "      <td>640.0</td>\n",
              "    </tr>\n",
              "    <tr>\n",
              "      <th>1</th>\n",
              "      <td>CO</td>\n",
              "      <td>Professional</td>\n",
              "      <td>Employed</td>\n",
              "      <td>False</td>\n",
              "      <td>680.0</td>\n",
              "    </tr>\n",
              "    <tr>\n",
              "      <th>2</th>\n",
              "      <td>GA</td>\n",
              "      <td>Other</td>\n",
              "      <td>Not available</td>\n",
              "      <td>False</td>\n",
              "      <td>480.0</td>\n",
              "    </tr>\n",
              "    <tr>\n",
              "      <th>3</th>\n",
              "      <td>GA</td>\n",
              "      <td>Skilled Labor</td>\n",
              "      <td>Employed</td>\n",
              "      <td>True</td>\n",
              "      <td>800.0</td>\n",
              "    </tr>\n",
              "    <tr>\n",
              "      <th>4</th>\n",
              "      <td>MN</td>\n",
              "      <td>Executive</td>\n",
              "      <td>Employed</td>\n",
              "      <td>True</td>\n",
              "      <td>680.0</td>\n",
              "    </tr>\n",
              "    <tr>\n",
              "      <th>5</th>\n",
              "      <td>NM</td>\n",
              "      <td>Professional</td>\n",
              "      <td>Employed</td>\n",
              "      <td>True</td>\n",
              "      <td>740.0</td>\n",
              "    </tr>\n",
              "    <tr>\n",
              "      <th>6</th>\n",
              "      <td>KS</td>\n",
              "      <td>Sales - Retail</td>\n",
              "      <td>Employed</td>\n",
              "      <td>False</td>\n",
              "      <td>680.0</td>\n",
              "    </tr>\n",
              "  </tbody>\n",
              "</table>\n",
              "</div>"
            ],
            "text/plain": [
              "  BorrowerState      Occupation EmploymentStatus  IsBorrowerHomeowner  \\\n",
              "0            CO           Other    Self-employed                 True   \n",
              "1            CO    Professional         Employed                False   \n",
              "2            GA           Other    Not available                False   \n",
              "3            GA   Skilled Labor         Employed                 True   \n",
              "4            MN       Executive         Employed                 True   \n",
              "5            NM    Professional         Employed                 True   \n",
              "6            KS  Sales - Retail         Employed                False   \n",
              "\n",
              "   CreditScoreRangeLower  \n",
              "0                  640.0  \n",
              "1                  680.0  \n",
              "2                  480.0  \n",
              "3                  800.0  \n",
              "4                  680.0  \n",
              "5                  740.0  \n",
              "6                  680.0  "
            ]
          },
          "execution_count": 10,
          "metadata": {},
          "output_type": "execute_result"
        }
      ],
      "source": [
        "#To Display hidden columns\n",
        "New_df_hidden = df[['BorrowerState', 'Occupation', 'EmploymentStatus', 'IsBorrowerHomeowner',\n",
        "                    'CreditScoreRangeLower']].copy()\n",
        "New_df_hidden.head(7)"
      ]
    },
    {
      "cell_type": "markdown",
      "id": "0cfa041e",
      "metadata": {
        "id": "0cfa041e"
      },
      "source": [
        "## Clean our data and Create a new columns"
      ]
    },
    {
      "cell_type": "code",
      "execution_count": null,
      "id": "bb888b93",
      "metadata": {
        "id": "bb888b93",
        "outputId": "8c996e37-279c-4a5c-fcf1-46c6a5210f66"
      },
      "outputs": [
        {
          "name": "stdout",
          "output_type": "stream",
          "text": [
            "object\n",
            "int64\n",
            "int64\n"
          ]
        }
      ],
      "source": [
        "new_df['ListingCreationDate'] = pd.to_datetime(new_df['ListingCreationDate'])\n",
        "new_df['LoanOriginationDate'] = pd.to_datetime(new_df['LoanOriginationDate'])\n",
        "\n",
        "new_df['Date'] = new_df['ListingCreationDate'].dt.date\n",
        "new_df['Year'] = new_df['ListingCreationDate'].dt.year\n",
        "new_df['Month'] = new_df['ListingCreationDate'].dt.month\n",
        "\n",
        "print(new_df['Date'].dtypes)\n",
        "print(new_df['Year'].dtypes)\n",
        "print(new_df['Month'].dtypes)"
      ]
    },
    {
      "cell_type": "code",
      "execution_count": null,
      "id": "a6720627",
      "metadata": {
        "id": "a6720627",
        "outputId": "939f82d4-76a9-462f-a82a-52a9261c60e0"
      },
      "outputs": [
        {
          "name": "stdout",
          "output_type": "stream",
          "text": [
            "datetime64[ns]\n"
          ]
        }
      ],
      "source": [
        "new_df['Date'] = pd.to_datetime(new_df['Date'])\n",
        "print(new_df['Date'].dtypes)\n",
        "#new_df['Month'] = new_df['Date'].dt.month_name()\n",
        "#print(new_df['Month'].unique())"
      ]
    },
    {
      "cell_type": "code",
      "execution_count": null,
      "id": "829c0067",
      "metadata": {
        "id": "829c0067"
      },
      "outputs": [],
      "source": [
        "new_df['ListingCategory (numeric)'].replace({ 0 : 'Not_Available', 1 : 'Debt_Consolidation', 2 : 'Home_Improvement',\n",
        "        3 : 'Business', 4 : 'Personal_Loan', 5 : 'Student_Use', 6 : 'Auto', 7 : 'Other', 8 : 'Baby&Adoption', 9 : 'Boat',\n",
        "        10 : 'Cosmetic_Procedure', 11 : 'Engagement_Ring', 12 : 'Green_Loans', 13 : 'Household_Expenses',\n",
        "        14 : 'Large_Purchases', 15 : 'Medical/Dental', 16 : 'Motorcycle', 17 : 'RV', 18 : 'Taxes', 19 : 'Vacation',\n",
        "        20 : 'Wedding_Loans' }, inplace=True)"
      ]
    },
    {
      "cell_type": "code",
      "execution_count": null,
      "id": "93504ddc",
      "metadata": {
        "id": "93504ddc",
        "outputId": "51f56530-cdca-491a-b249-11d61df7a57e"
      },
      "outputs": [
        {
          "data": {
            "text/plain": [
              "Debt_Consolidation    58308\n",
              "Not_Available         16965\n",
              "Other                 10494\n",
              "Home_Improvement       7433\n",
              "Business               7189\n",
              "Auto                   2572\n",
              "Personal_Loan          2395\n",
              "Household_Expenses     1996\n",
              "Medical/Dental         1522\n",
              "Taxes                   885\n",
              "Large_Purchases         876\n",
              "Wedding_Loans           771\n",
              "Vacation                768\n",
              "Student_Use             756\n",
              "Motorcycle              304\n",
              "Engagement_Ring         217\n",
              "Baby&Adoption           199\n",
              "Cosmetic_Procedure       91\n",
              "Boat                     85\n",
              "Green_Loans              59\n",
              "RV                       52\n",
              "Name: ListingCategory, dtype: int64"
            ]
          },
          "execution_count": 14,
          "metadata": {},
          "output_type": "execute_result"
        }
      ],
      "source": [
        "new_df.rename(columns = { 'ListingNumber' : 'ListingID',\n",
        "                          'ListingCategory (numeric)' : 'ListingCategory' }, inplace = True)\n",
        "new_df['ListingCategory'].value_counts()"
      ]
    },
    {
      "cell_type": "code",
      "execution_count": null,
      "id": "8298fbf4",
      "metadata": {
        "id": "8298fbf4",
        "outputId": "b468d114-c508-454d-a892-6cdcc1e68460"
      },
      "outputs": [
        {
          "data": {
            "text/plain": [
              "ListingID                    0\n",
              "ListingCreationDate          0\n",
              "Term                         0\n",
              "LoanStatus                   0\n",
              "BorrowerAPR                 25\n",
              "BorrowerRate                 0\n",
              "ProsperRating (Alpha)    29084\n",
              "ProsperScore             29084\n",
              "ListingCategory              0\n",
              "BorrowerState             5515\n",
              "Occupation                3588\n",
              "EmploymentStatus          2255\n",
              "IsBorrowerHomeowner          0\n",
              "CreditScoreRangeLower      591\n",
              "CreditScoreRangeUpper      591\n",
              "CurrentCreditLines        7604\n",
              "OpenRevolvingAccounts        0\n",
              "DebtToIncomeRatio         8554\n",
              "IncomeRange                  0\n",
              "IncomeVerifiable             0\n",
              "StatedMonthlyIncome          0\n",
              "LoanOriginalAmount           0\n",
              "LoanOriginationDate          0\n",
              "Date                         0\n",
              "Year                         0\n",
              "Month                        0\n",
              "dtype: int64"
            ]
          },
          "execution_count": 15,
          "metadata": {},
          "output_type": "execute_result"
        }
      ],
      "source": [
        "new_df.isnull().sum()"
      ]
    },
    {
      "cell_type": "markdown",
      "id": "7f8644a4",
      "metadata": {
        "id": "7f8644a4"
      },
      "source": [
        "### Handling missing & Null values"
      ]
    },
    {
      "cell_type": "code",
      "execution_count": null,
      "id": "f90964f9",
      "metadata": {
        "id": "f90964f9"
      },
      "outputs": [],
      "source": [
        "new_df['BorrowerState'].fillna('Unknown', inplace= True)\n",
        "new_df['Occupation'].fillna('Unknown', inplace= True)\n",
        "new_df['EmploymentStatus'].fillna('Not available', inplace= True)\n",
        "new_df['DebtToIncomeRatio'].fillna(new_df['DebtToIncomeRatio'].mean(), inplace= True)\n",
        "new_df['CreditScoreRangeLower'].fillna(new_df['CreditScoreRangeLower'].mean(), inplace= True)\n",
        "new_df['CreditScoreRangeUpper'].fillna(new_df['CreditScoreRangeUpper'].mean(), inplace= True)"
      ]
    },
    {
      "cell_type": "code",
      "execution_count": null,
      "id": "8522e5f3",
      "metadata": {
        "id": "8522e5f3",
        "outputId": "41fe0193-cf5f-44da-fa82-151e42df760a"
      },
      "outputs": [
        {
          "name": "stdout",
          "output_type": "stream",
          "text": [
            "float64\n"
          ]
        }
      ],
      "source": [
        "new_df['AvgCreditScore'] = (new_df['CreditScoreRangeLower'] + new_df['CreditScoreRangeUpper'])/2\n",
        "print(new_df['AvgCreditScore'].dtypes)"
      ]
    },
    {
      "cell_type": "code",
      "execution_count": null,
      "id": "12e70f14",
      "metadata": {
        "id": "12e70f14",
        "outputId": "663f5c63-22bf-4d25-dfdf-62ebed48c5f2"
      },
      "outputs": [
        {
          "data": {
            "text/plain": [
              "[Current                   56576\n",
              " Completed                 38074\n",
              " Chargedoff                11992\n",
              " Defaulted                  5018\n",
              " Past Due (1-15 days)        806\n",
              " Past Due (31-60 days)       363\n",
              " Past Due (61-90 days)       313\n",
              " Past Due (91-120 days)      304\n",
              " Past Due (16-30 days)       265\n",
              " FinalPaymentInProgress      205\n",
              " Past Due (>120 days)         16\n",
              " Cancelled                     5\n",
              " Name: LoanStatus, dtype: int64,\n",
              " C     18345\n",
              " B     15581\n",
              " A     14551\n",
              " D     14274\n",
              " E      9795\n",
              " HR     6935\n",
              " AA     5372\n",
              " Name: ProsperRating (Alpha), dtype: int64,\n",
              " Debt_Consolidation    58308\n",
              " Not_Available         16965\n",
              " Other                 10494\n",
              " Home_Improvement       7433\n",
              " Business               7189\n",
              " Auto                   2572\n",
              " Personal_Loan          2395\n",
              " Household_Expenses     1996\n",
              " Medical/Dental         1522\n",
              " Taxes                   885\n",
              " Large_Purchases         876\n",
              " Wedding_Loans           771\n",
              " Vacation                768\n",
              " Student_Use             756\n",
              " Motorcycle              304\n",
              " Engagement_Ring         217\n",
              " Baby&Adoption           199\n",
              " Cosmetic_Procedure       91\n",
              " Boat                     85\n",
              " Green_Loans              59\n",
              " RV                       52\n",
              " Name: ListingCategory, dtype: int64,\n",
              " CA         14717\n",
              " TX          6842\n",
              " NY          6729\n",
              " FL          6720\n",
              " IL          5921\n",
              " Unknown     5515\n",
              " GA          5008\n",
              " OH          4197\n",
              " MI          3593\n",
              " VA          3278\n",
              " NJ          3097\n",
              " NC          3084\n",
              " WA          3048\n",
              " PA          2972\n",
              " MD          2821\n",
              " MO          2615\n",
              " MN          2318\n",
              " MA          2242\n",
              " CO          2210\n",
              " IN          2078\n",
              " AZ          1901\n",
              " WI          1842\n",
              " OR          1817\n",
              " TN          1737\n",
              " AL          1679\n",
              " CT          1627\n",
              " SC          1122\n",
              " NV          1090\n",
              " KS          1062\n",
              " KY           983\n",
              " OK           971\n",
              " LA           954\n",
              " UT           877\n",
              " AR           855\n",
              " MS           787\n",
              " NE           674\n",
              " ID           599\n",
              " NH           551\n",
              " NM           472\n",
              " RI           435\n",
              " HI           409\n",
              " WV           391\n",
              " DC           382\n",
              " MT           330\n",
              " DE           300\n",
              " VT           207\n",
              " AK           200\n",
              " SD           189\n",
              " IA           186\n",
              " WY           150\n",
              " ME           101\n",
              " ND            52\n",
              " Name: BorrowerState, dtype: int64,\n",
              " Other                          28617\n",
              " Professional                   13628\n",
              " Computer Programmer             4478\n",
              " Executive                       4311\n",
              " Teacher                         3759\n",
              "                                ...  \n",
              " Dentist                           68\n",
              " Student - College Freshman        41\n",
              " Student - Community College       28\n",
              " Judge                             22\n",
              " Student - Technical School        16\n",
              " Name: Occupation, Length: 68, dtype: int64,\n",
              " Employed         67322\n",
              " Full-time        26355\n",
              " Not available     7602\n",
              " Self-employed     6134\n",
              " Other             3806\n",
              " Part-time         1088\n",
              " Not employed       835\n",
              " Retired            795\n",
              " Name: EmploymentStatus, dtype: int64,\n",
              " $25,000-49,999    32192\n",
              " $50,000-74,999    31050\n",
              " $100,000+         17337\n",
              " $75,000-99,999    16916\n",
              " Not displayed      7741\n",
              " $1-24,999          7274\n",
              " Not employed        806\n",
              " $0                  621\n",
              " Name: IncomeRange, dtype: int64]"
            ]
          },
          "execution_count": 18,
          "metadata": {},
          "output_type": "execute_result"
        }
      ],
      "source": [
        "Num= new_df.select_dtypes('number').columns.to_list()\n",
        "Obj= new_df.select_dtypes('object').columns.to_list()\n",
        "\n",
        "Num_df=  new_df[Num]\n",
        "Obj_df= new_df[Obj]\n",
        "\n",
        "[new_df[category].value_counts() for category in Obj]"
      ]
    },
    {
      "cell_type": "code",
      "execution_count": null,
      "id": "9abc736c",
      "metadata": {
        "id": "9abc736c",
        "outputId": "e63b2410-825c-4f7b-b79e-fc9475591f65"
      },
      "outputs": [
        {
          "data": {
            "text/plain": [
              "52"
            ]
          },
          "execution_count": 19,
          "metadata": {},
          "output_type": "execute_result"
        }
      ],
      "source": [
        "len(new_df['BorrowerState'].value_counts())"
      ]
    },
    {
      "cell_type": "code",
      "execution_count": null,
      "id": "904f3769",
      "metadata": {
        "id": "904f3769",
        "outputId": "03c93dd6-7bca-46bd-c8d8-48d0487c5678"
      },
      "outputs": [
        {
          "data": {
            "text/plain": [
              "array(['Other', 'Professional', 'Skilled Labor', 'Executive',\n",
              "       'Sales - Retail', 'Laborer', 'Food Service', 'Fireman',\n",
              "       'Waiter/Waitress', 'Construction', 'Computer Programmer',\n",
              "       'Sales - Commission', 'Retail Management', 'Engineer - Mechanical',\n",
              "       'Military Enlisted', 'Clerical', 'Unknown', 'Teacher', 'Clergy',\n",
              "       'Accountant/CPA', 'Attorney', 'Nurse (RN)', 'Analyst',\n",
              "       \"Nurse's Aide\", 'Investor', 'Realtor', 'Flight Attendant',\n",
              "       'Nurse (LPN)', 'Military Officer', 'Food Service Management',\n",
              "       'Truck Driver', 'Administrative Assistant',\n",
              "       'Police Officer/Correction Officer', 'Social Worker',\n",
              "       'Tradesman - Mechanic', 'Medical Technician', 'Professor',\n",
              "       'Postal Service', 'Civil Service', 'Pharmacist',\n",
              "       'Tradesman - Electrician', 'Scientist', 'Dentist',\n",
              "       'Engineer - Electrical', 'Architect', 'Landscaping',\n",
              "       'Tradesman - Carpenter', 'Bus Driver', 'Tradesman - Plumber',\n",
              "       'Engineer - Chemical', 'Doctor', 'Chemist',\n",
              "       'Student - College Senior', 'Principal', \"Teacher's Aide\",\n",
              "       'Pilot - Private/Commercial', 'Religious', 'Homemaker',\n",
              "       'Student - College Graduate Student', 'Student - Technical School',\n",
              "       'Psychologist', 'Biologist', 'Student - College Sophomore',\n",
              "       'Judge', 'Student - College Junior', 'Car Dealer',\n",
              "       'Student - Community College', 'Student - College Freshman'],\n",
              "      dtype=object)"
            ]
          },
          "execution_count": 20,
          "metadata": {},
          "output_type": "execute_result"
        }
      ],
      "source": [
        "new_df['Occupation'].unique()"
      ]
    },
    {
      "cell_type": "code",
      "execution_count": null,
      "id": "47f68d05",
      "metadata": {
        "id": "47f68d05",
        "outputId": "f648de2d-8527-4171-8466-104921abdb05"
      },
      "outputs": [
        {
          "data": {
            "text/plain": [
              "Current                   56576\n",
              "Completed                 38074\n",
              "Chargedoff                11992\n",
              "Defaulted                  5018\n",
              "Past Due (1-15 days)        806\n",
              "Past Due (31-60 days)       363\n",
              "Past Due (61-90 days)       313\n",
              "Past Due (91-120 days)      304\n",
              "Past Due (16-30 days)       265\n",
              "FinalPaymentInProgress      205\n",
              "Past Due (>120 days)         16\n",
              "Cancelled                     5\n",
              "Name: LoanStatus, dtype: int64"
            ]
          },
          "execution_count": 21,
          "metadata": {},
          "output_type": "execute_result"
        }
      ],
      "source": [
        "new_df['LoanStatus'].value_counts()"
      ]
    },
    {
      "cell_type": "code",
      "execution_count": null,
      "id": "fbfbe00a",
      "metadata": {
        "id": "fbfbe00a",
        "outputId": "abdbd09a-b3e2-49b1-bd2f-8099e0df2075"
      },
      "outputs": [
        {
          "data": {
            "text/plain": [
              "Current                   56576\n",
              "Completed                 38074\n",
              "Chargedoff                11992\n",
              "Defaulted                  5018\n",
              "Past Due                   2067\n",
              "FinalPaymentInProgress      205\n",
              "Cancelled                     5\n",
              "Name: LoanStatus, dtype: int64"
            ]
          },
          "execution_count": 22,
          "metadata": {},
          "output_type": "execute_result"
        }
      ],
      "source": [
        "new_df['LoanStatus'] = new_df['LoanStatus'].replace(['Past Due (1-15 days)', 'Past Due (16-30 days)', 'Past Due (61-90 days)',\n",
        "                        'Past Due (31-60 days)', 'Past Due (91-120 days)', 'Past Due (>120 days)'], 'Past Due')\n",
        "new_df['LoanStatus'].value_counts()"
      ]
    },
    {
      "cell_type": "code",
      "execution_count": null,
      "id": "b80a065d",
      "metadata": {
        "id": "b80a065d",
        "outputId": "4093fe2a-6fd8-4a31-9552-1ce9156c3434"
      },
      "outputs": [
        {
          "name": "stdout",
          "output_type": "stream",
          "text": [
            "<class 'pandas.core.frame.DataFrame'>\n",
            "Int64Index: 84853 entries, 1 to 113936\n",
            "Data columns (total 27 columns):\n",
            " #   Column                 Non-Null Count  Dtype         \n",
            "---  ------                 --------------  -----         \n",
            " 0   ListingID              84853 non-null  int64         \n",
            " 1   ListingCreationDate    84853 non-null  datetime64[ns]\n",
            " 2   Term                   84853 non-null  int64         \n",
            " 3   LoanStatus             84853 non-null  object        \n",
            " 4   BorrowerAPR            84853 non-null  float64       \n",
            " 5   BorrowerRate           84853 non-null  float64       \n",
            " 6   ProsperRating (Alpha)  84853 non-null  object        \n",
            " 7   ProsperScore           84853 non-null  float64       \n",
            " 8   ListingCategory        84853 non-null  object        \n",
            " 9   BorrowerState          84853 non-null  object        \n",
            " 10  Occupation             84853 non-null  object        \n",
            " 11  EmploymentStatus       84853 non-null  object        \n",
            " 12  IsBorrowerHomeowner    84853 non-null  bool          \n",
            " 13  CreditScoreRangeLower  84853 non-null  float64       \n",
            " 14  CreditScoreRangeUpper  84853 non-null  float64       \n",
            " 15  CurrentCreditLines     84853 non-null  float64       \n",
            " 16  OpenRevolvingAccounts  84853 non-null  int64         \n",
            " 17  DebtToIncomeRatio      84853 non-null  float64       \n",
            " 18  IncomeRange            84853 non-null  object        \n",
            " 19  IncomeVerifiable       84853 non-null  bool          \n",
            " 20  StatedMonthlyIncome    84853 non-null  float64       \n",
            " 21  LoanOriginalAmount     84853 non-null  int64         \n",
            " 22  LoanOriginationDate    84853 non-null  datetime64[ns]\n",
            " 23  Date                   84853 non-null  datetime64[ns]\n",
            " 24  Year                   84853 non-null  int64         \n",
            " 25  Month                  84853 non-null  int64         \n",
            " 26  AvgCreditScore         84853 non-null  float64       \n",
            "dtypes: bool(2), datetime64[ns](3), float64(9), int64(6), object(7)\n",
            "memory usage: 17.0+ MB\n"
          ]
        }
      ],
      "source": [
        "#new_df1 = new_df[new_df['ProsperRating (Alpha)'].notnull()]\n",
        "#print(new_df1.info())\n",
        "new_df = new_df.dropna(subset=['ProsperRating (Alpha)'])\n",
        "new_df.info()"
      ]
    },
    {
      "cell_type": "markdown",
      "id": "398abc33",
      "metadata": {
        "id": "398abc33"
      },
      "source": [
        "## Change some columns' type"
      ]
    },
    {
      "cell_type": "code",
      "execution_count": null,
      "id": "cf6737f4",
      "metadata": {
        "id": "cf6737f4"
      },
      "outputs": [],
      "source": [
        "new_df['ListingID']= new_df['ListingID'].astype(str)\n",
        "new_df['ProsperScore']= new_df['ProsperScore'].astype(int)\n",
        "new_df['CurrentCreditLines']= new_df['CurrentCreditLines'].astype(int)"
      ]
    },
    {
      "cell_type": "markdown",
      "id": "6691cd62",
      "metadata": {
        "id": "6691cd62"
      },
      "source": [
        "## Handling Outliers of the data"
      ]
    },
    {
      "cell_type": "code",
      "execution_count": null,
      "id": "205ebd9c",
      "metadata": {
        "id": "205ebd9c",
        "outputId": "ea31c01e-e505-438e-d164-c1073d96d140"
      },
      "outputs": [
        {
          "name": "stderr",
          "output_type": "stream",
          "text": [
            "C:\\Users\\WAGDY 10\\anaconda3\\lib\\site-packages\\seaborn\\_decorators.py:36: FutureWarning: Pass the following variable as a keyword arg: x. From version 0.12, the only valid positional argument will be `data`, and passing other arguments without an explicit keyword will result in an error or misinterpretation.\n",
            "  warnings.warn(\n"
          ]
        },
        {
          "data": {
            "text/plain": [
              "<AxesSubplot:xlabel='DebtToIncomeRatio'>"
            ]
          },
          "execution_count": 25,
          "metadata": {},
          "output_type": "execute_result"
        },
        {
          "data": {
            "image/png": "[encoded data removed]",
            "text/plain": [
              "<Figure size 640x480 with 1 Axes>"
            ]
          },
          "metadata": {},
          "output_type": "display_data"
        }
      ],
      "source": [
        "sns.boxplot(new_df['DebtToIncomeRatio'])"
      ]
    },
    {
      "cell_type": "code",
      "execution_count": null,
      "id": "78affb22",
      "metadata": {
        "id": "78affb22",
        "outputId": "1770ad6e-223a-4442-f6a7-114de04abcf4"
      },
      "outputs": [
        {
          "name": "stdout",
          "output_type": "stream",
          "text": [
            "The Inter Quartile Range is: 0.15\n",
            "The total number of outliers is: 2546\n"
          ]
        }
      ],
      "source": [
        "q1, q3 = np.percentile(new_df['DebtToIncomeRatio'], [25, 75])\n",
        "iqr = q3 - q1\n",
        "print(\"The Inter Quartile Range is: \"+ str(iqr))\n",
        "lower_bound = q1 - (1.5 * iqr)\n",
        "upper_bound = q3 + (1.5 * iqr)\n",
        "outliers = new_df[(new_df['DebtToIncomeRatio'] > upper_bound)]\n",
        "print(\"The total number of outliers is: \" + str (len(outliers['DebtToIncomeRatio'])))\n",
        "#print(np.sort(outliers['DebtToIncomeRatio'].unique()))\n",
        "new_df = new_df[(new_df['DebtToIncomeRatio'] >= lower_bound)\n",
        "                        & (new_df['DebtToIncomeRatio'] <= upper_bound)]"
      ]
    },
    {
      "cell_type": "code",
      "execution_count": null,
      "id": "57d1d871",
      "metadata": {
        "id": "57d1d871",
        "outputId": "8dbcb6a9-0dce-420c-a690-f53dbcc37712"
      },
      "outputs": [
        {
          "name": "stderr",
          "output_type": "stream",
          "text": [
            "C:\\Users\\WAGDY 10\\anaconda3\\lib\\site-packages\\seaborn\\_decorators.py:36: FutureWarning: Pass the following variable as a keyword arg: x. From version 0.12, the only valid positional argument will be `data`, and passing other arguments without an explicit keyword will result in an error or misinterpretation.\n",
            "  warnings.warn(\n"
          ]
        },
        {
          "data": {
            "text/plain": [
              "<AxesSubplot:xlabel='DebtToIncomeRatio'>"
            ]
          },
          "execution_count": 27,
          "metadata": {},
          "output_type": "execute_result"
        },
        {
          "data": {
            "image/png": "[encoded data removed]",
            "text/plain": [
              "<Figure size 640x480 with 1 Axes>"
            ]
          },
          "metadata": {},
          "output_type": "display_data"
        }
      ],
      "source": [
        "sns.boxplot(new_df['DebtToIncomeRatio'])"
      ]
    },
    {
      "cell_type": "code",
      "execution_count": null,
      "id": "0d366563",
      "metadata": {
        "id": "0d366563",
        "outputId": "fa4c426f-8897-4d70-b724-0006ccf32a59"
      },
      "outputs": [
        {
          "name": "stderr",
          "output_type": "stream",
          "text": [
            "C:\\Users\\WAGDY 10\\anaconda3\\lib\\site-packages\\seaborn\\_decorators.py:36: FutureWarning: Pass the following variable as a keyword arg: x. From version 0.12, the only valid positional argument will be `data`, and passing other arguments without an explicit keyword will result in an error or misinterpretation.\n",
            "  warnings.warn(\n"
          ]
        },
        {
          "data": {
            "text/plain": [
              "<AxesSubplot:xlabel='StatedMonthlyIncome'>"
            ]
          },
          "execution_count": 28,
          "metadata": {},
          "output_type": "execute_result"
        },
        {
          "data": {
            "image/png": "[encoded data removed]",
            "text/plain": [
              "<Figure size 640x480 with 1 Axes>"
            ]
          },
          "metadata": {},
          "output_type": "display_data"
        }
      ],
      "source": [
        "sns.boxplot(new_df['StatedMonthlyIncome'])"
      ]
    },
    {
      "cell_type": "code",
      "execution_count": null,
      "id": "0604c3d5",
      "metadata": {
        "id": "0604c3d5",
        "outputId": "bcee6380-9b91-4299-8266-f88010b7c51d"
      },
      "outputs": [
        {
          "name": "stdout",
          "output_type": "stream",
          "text": [
            "The Inter Quartile Range is: 3741.6666670000004\n",
            "-2112.5000005\n",
            "12854.166667500001\n",
            "The total number of Outliers is: 3791\n"
          ]
        }
      ],
      "source": [
        "Q1, Q3 = np.percentile(new_df['StatedMonthlyIncome'], [25, 75])\n",
        "IQR = Q3 - Q1\n",
        "print(\"The Inter Quartile Range is: \"+ str(IQR))\n",
        "Lower_bound = Q1 - 1.5 * IQR\n",
        "Upper_bound = Q3 + 1.5 * IQR\n",
        "print(Lower_bound)\n",
        "print(Upper_bound)\n",
        "Outliers = new_df[(new_df['StatedMonthlyIncome'] > Upper_bound)]\n",
        "print(\"The total number of Outliers is: \" + str (len(Outliers['StatedMonthlyIncome'])))\n",
        "#print(np.sort(Outliers['StatedMonthlyIncome'].unique()))\n",
        "new_df = new_df[(new_df['StatedMonthlyIncome'] >= Lower_bound)\n",
        "                        & (new_df['StatedMonthlyIncome'] <= Upper_bound)]"
      ]
    },
    {
      "cell_type": "code",
      "execution_count": null,
      "id": "f679f684",
      "metadata": {
        "id": "f679f684",
        "outputId": "20cb8b81-b7df-45e8-e15f-b4b614677cd1"
      },
      "outputs": [
        {
          "name": "stderr",
          "output_type": "stream",
          "text": [
            "C:\\Users\\WAGDY 10\\anaconda3\\lib\\site-packages\\seaborn\\_decorators.py:36: FutureWarning: Pass the following variable as a keyword arg: x. From version 0.12, the only valid positional argument will be `data`, and passing other arguments without an explicit keyword will result in an error or misinterpretation.\n",
            "  warnings.warn(\n"
          ]
        },
        {
          "data": {
            "text/plain": [
              "<AxesSubplot:xlabel='StatedMonthlyIncome'>"
            ]
          },
          "execution_count": 30,
          "metadata": {},
          "output_type": "execute_result"
        },
        {
          "data": {
            "image/png": "[encoded data removed]",
            "text/plain": [
              "<Figure size 640x480 with 1 Axes>"
            ]
          },
          "metadata": {},
          "output_type": "display_data"
        }
      ],
      "source": [
        "sns.boxplot(new_df['StatedMonthlyIncome'])"
      ]
    },
    {
      "cell_type": "code",
      "execution_count": null,
      "id": "79897ce4",
      "metadata": {
        "id": "79897ce4",
        "outputId": "6a87658d-3e11-4151-f892-9a6a785cc8ef"
      },
      "outputs": [
        {
          "name": "stdout",
          "output_type": "stream",
          "text": [
            "The total number of outliers is: 0\n",
            "The total number of Outliers is: 0\n"
          ]
        }
      ],
      "source": [
        "outliers = new_df[(new_df['DebtToIncomeRatio'] > upper_bound)]\n",
        "print(\"The total number of outliers is: \" + str (len(outliers['DebtToIncomeRatio'])))\n",
        "Outliers = new_df[(new_df['StatedMonthlyIncome'] > Upper_bound)]\n",
        "print(\"The total number of Outliers is: \" + str (len(Outliers['StatedMonthlyIncome'])))"
      ]
    },
    {
      "cell_type": "code",
      "execution_count": null,
      "id": "adef8abe",
      "metadata": {
        "id": "adef8abe",
        "outputId": "02397a09-b188-454e-ae57-e5a80a4b3828"
      },
      "outputs": [
        {
          "name": "stdout",
          "output_type": "stream",
          "text": [
            "<class 'pandas.core.frame.DataFrame'>\n",
            "Int64Index: 78516 entries, 1 to 113936\n",
            "Data columns (total 27 columns):\n",
            " #   Column                 Non-Null Count  Dtype         \n",
            "---  ------                 --------------  -----         \n",
            " 0   ListingID              78516 non-null  object        \n",
            " 1   ListingCreationDate    78516 non-null  datetime64[ns]\n",
            " 2   Term                   78516 non-null  int64         \n",
            " 3   LoanStatus             78516 non-null  object        \n",
            " 4   BorrowerAPR            78516 non-null  float64       \n",
            " 5   BorrowerRate           78516 non-null  float64       \n",
            " 6   ProsperRating (Alpha)  78516 non-null  object        \n",
            " 7   ProsperScore           78516 non-null  int32         \n",
            " 8   ListingCategory        78516 non-null  object        \n",
            " 9   BorrowerState          78516 non-null  object        \n",
            " 10  Occupation             78516 non-null  object        \n",
            " 11  EmploymentStatus       78516 non-null  object        \n",
            " 12  IsBorrowerHomeowner    78516 non-null  bool          \n",
            " 13  CreditScoreRangeLower  78516 non-null  float64       \n",
            " 14  CreditScoreRangeUpper  78516 non-null  float64       \n",
            " 15  CurrentCreditLines     78516 non-null  int32         \n",
            " 16  OpenRevolvingAccounts  78516 non-null  int64         \n",
            " 17  DebtToIncomeRatio      78516 non-null  float64       \n",
            " 18  IncomeRange            78516 non-null  object        \n",
            " 19  IncomeVerifiable       78516 non-null  bool          \n",
            " 20  StatedMonthlyIncome    78516 non-null  float64       \n",
            " 21  LoanOriginalAmount     78516 non-null  int64         \n",
            " 22  LoanOriginationDate    78516 non-null  datetime64[ns]\n",
            " 23  Date                   78516 non-null  datetime64[ns]\n",
            " 24  Year                   78516 non-null  int64         \n",
            " 25  Month                  78516 non-null  int64         \n",
            " 26  AvgCreditScore         78516 non-null  float64       \n",
            "dtypes: bool(2), datetime64[ns](3), float64(7), int32(2), int64(5), object(8)\n",
            "memory usage: 15.1+ MB\n"
          ]
        }
      ],
      "source": [
        "new_df.info()"
      ]
    },
    {
      "cell_type": "code",
      "execution_count": null,
      "id": "3f6c3d70",
      "metadata": {
        "id": "3f6c3d70",
        "outputId": "72f010bd-4287-41db-97c7-404a8adb3ae5"
      },
      "outputs": [
        {
          "data": {
            "text/html": [
              "<div>\n",
              "<style scoped>\n",
              "    .dataframe tbody tr th:only-of-type {\n",
              "        vertical-align: middle;\n",
              "    }\n",
              "\n",
              "    .dataframe tbody tr th {\n",
              "        vertical-align: top;\n",
              "    }\n",
              "\n",
              "    .dataframe thead th {\n",
              "        text-align: right;\n",
              "    }\n",
              "</style>\n",
              "<table border=\"1\" class=\"dataframe\">\n",
              "  <thead>\n",
              "    <tr style=\"text-align: right;\">\n",
              "      <th></th>\n",
              "      <th>Term</th>\n",
              "      <th>BorrowerAPR</th>\n",
              "      <th>BorrowerRate</th>\n",
              "      <th>ProsperScore</th>\n",
              "      <th>CreditScoreRangeLower</th>\n",
              "      <th>CreditScoreRangeUpper</th>\n",
              "      <th>CurrentCreditLines</th>\n",
              "      <th>OpenRevolvingAccounts</th>\n",
              "      <th>DebtToIncomeRatio</th>\n",
              "      <th>StatedMonthlyIncome</th>\n",
              "      <th>LoanOriginalAmount</th>\n",
              "      <th>Year</th>\n",
              "      <th>Month</th>\n",
              "      <th>AvgCreditScore</th>\n",
              "    </tr>\n",
              "  </thead>\n",
              "  <tbody>\n",
              "    <tr>\n",
              "      <th>count</th>\n",
              "      <td>78516.000000</td>\n",
              "      <td>78516.000000</td>\n",
              "      <td>78516.000000</td>\n",
              "      <td>78516.000000</td>\n",
              "      <td>78516.000000</td>\n",
              "      <td>78516.000000</td>\n",
              "      <td>78516.000000</td>\n",
              "      <td>78516.000000</td>\n",
              "      <td>78516.000000</td>\n",
              "      <td>78516.000000</td>\n",
              "      <td>78516.000000</td>\n",
              "      <td>78516.000000</td>\n",
              "      <td>78516.000000</td>\n",
              "      <td>78516.000000</td>\n",
              "    </tr>\n",
              "    <tr>\n",
              "      <th>mean</th>\n",
              "      <td>42.580162</td>\n",
              "      <td>0.226218</td>\n",
              "      <td>0.195628</td>\n",
              "      <td>5.944814</td>\n",
              "      <td>698.765857</td>\n",
              "      <td>717.765857</td>\n",
              "      <td>10.268455</td>\n",
              "      <td>7.239314</td>\n",
              "      <td>0.240974</td>\n",
              "      <td>5356.912572</td>\n",
              "      <td>8860.646773</td>\n",
              "      <td>2012.330773</td>\n",
              "      <td>6.708212</td>\n",
              "      <td>708.265857</td>\n",
              "    </tr>\n",
              "    <tr>\n",
              "      <th>std</th>\n",
              "      <td>11.664610</td>\n",
              "      <td>0.079360</td>\n",
              "      <td>0.074145</td>\n",
              "      <td>2.355026</td>\n",
              "      <td>46.983138</td>\n",
              "      <td>46.983138</td>\n",
              "      <td>5.168324</td>\n",
              "      <td>4.415683</td>\n",
              "      <td>0.105940</td>\n",
              "      <td>2550.949683</td>\n",
              "      <td>6065.762961</td>\n",
              "      <td>1.206514</td>\n",
              "      <td>3.666418</td>\n",
              "      <td>46.983138</td>\n",
              "    </tr>\n",
              "    <tr>\n",
              "      <th>min</th>\n",
              "      <td>12.000000</td>\n",
              "      <td>0.045830</td>\n",
              "      <td>0.040000</td>\n",
              "      <td>1.000000</td>\n",
              "      <td>600.000000</td>\n",
              "      <td>619.000000</td>\n",
              "      <td>0.000000</td>\n",
              "      <td>0.000000</td>\n",
              "      <td>0.010000</td>\n",
              "      <td>0.000000</td>\n",
              "      <td>1000.000000</td>\n",
              "      <td>2009.000000</td>\n",
              "      <td>1.000000</td>\n",
              "      <td>609.500000</td>\n",
              "    </tr>\n",
              "    <tr>\n",
              "      <th>25%</th>\n",
              "      <td>36.000000</td>\n",
              "      <td>0.163920</td>\n",
              "      <td>0.135900</td>\n",
              "      <td>4.000000</td>\n",
              "      <td>660.000000</td>\n",
              "      <td>679.000000</td>\n",
              "      <td>7.000000</td>\n",
              "      <td>4.000000</td>\n",
              "      <td>0.160000</td>\n",
              "      <td>3494.062500</td>\n",
              "      <td>4000.000000</td>\n",
              "      <td>2012.000000</td>\n",
              "      <td>3.000000</td>\n",
              "      <td>669.500000</td>\n",
              "    </tr>\n",
              "    <tr>\n",
              "      <th>50%</th>\n",
              "      <td>36.000000</td>\n",
              "      <td>0.219350</td>\n",
              "      <td>0.187500</td>\n",
              "      <td>6.000000</td>\n",
              "      <td>700.000000</td>\n",
              "      <td>719.000000</td>\n",
              "      <td>10.000000</td>\n",
              "      <td>6.000000</td>\n",
              "      <td>0.240000</td>\n",
              "      <td>5000.000000</td>\n",
              "      <td>7500.000000</td>\n",
              "      <td>2013.000000</td>\n",
              "      <td>7.000000</td>\n",
              "      <td>709.500000</td>\n",
              "    </tr>\n",
              "    <tr>\n",
              "      <th>75%</th>\n",
              "      <td>60.000000</td>\n",
              "      <td>0.289740</td>\n",
              "      <td>0.256600</td>\n",
              "      <td>8.000000</td>\n",
              "      <td>720.000000</td>\n",
              "      <td>739.000000</td>\n",
              "      <td>13.000000</td>\n",
              "      <td>9.000000</td>\n",
              "      <td>0.300000</td>\n",
              "      <td>6833.333333</td>\n",
              "      <td>13000.000000</td>\n",
              "      <td>2013.000000</td>\n",
              "      <td>10.000000</td>\n",
              "      <td>729.500000</td>\n",
              "    </tr>\n",
              "    <tr>\n",
              "      <th>max</th>\n",
              "      <td>60.000000</td>\n",
              "      <td>0.423950</td>\n",
              "      <td>0.360000</td>\n",
              "      <td>11.000000</td>\n",
              "      <td>880.000000</td>\n",
              "      <td>899.000000</td>\n",
              "      <td>59.000000</td>\n",
              "      <td>50.000000</td>\n",
              "      <td>0.530000</td>\n",
              "      <td>12853.333333</td>\n",
              "      <td>35000.000000</td>\n",
              "      <td>2014.000000</td>\n",
              "      <td>12.000000</td>\n",
              "      <td>889.500000</td>\n",
              "    </tr>\n",
              "  </tbody>\n",
              "</table>\n",
              "</div>"
            ],
            "text/plain": [
              "               Term   BorrowerAPR  BorrowerRate  ProsperScore  \\\n",
              "count  78516.000000  78516.000000  78516.000000  78516.000000   \n",
              "mean      42.580162      0.226218      0.195628      5.944814   \n",
              "std       11.664610      0.079360      0.074145      2.355026   \n",
              "min       12.000000      0.045830      0.040000      1.000000   \n",
              "25%       36.000000      0.163920      0.135900      4.000000   \n",
              "50%       36.000000      0.219350      0.187500      6.000000   \n",
              "75%       60.000000      0.289740      0.256600      8.000000   \n",
              "max       60.000000      0.423950      0.360000     11.000000   \n",
              "\n",
              "       CreditScoreRangeLower  CreditScoreRangeUpper  CurrentCreditLines  \\\n",
              "count           78516.000000           78516.000000        78516.000000   \n",
              "mean              698.765857             717.765857           10.268455   \n",
              "std                46.983138              46.983138            5.168324   \n",
              "min               600.000000             619.000000            0.000000   \n",
              "25%               660.000000             679.000000            7.000000   \n",
              "50%               700.000000             719.000000           10.000000   \n",
              "75%               720.000000             739.000000           13.000000   \n",
              "max               880.000000             899.000000           59.000000   \n",
              "\n",
              "       OpenRevolvingAccounts  DebtToIncomeRatio  StatedMonthlyIncome  \\\n",
              "count           78516.000000       78516.000000         78516.000000   \n",
              "mean                7.239314           0.240974          5356.912572   \n",
              "std                 4.415683           0.105940          2550.949683   \n",
              "min                 0.000000           0.010000             0.000000   \n",
              "25%                 4.000000           0.160000          3494.062500   \n",
              "50%                 6.000000           0.240000          5000.000000   \n",
              "75%                 9.000000           0.300000          6833.333333   \n",
              "max                50.000000           0.530000         12853.333333   \n",
              "\n",
              "       LoanOriginalAmount          Year         Month  AvgCreditScore  \n",
              "count        78516.000000  78516.000000  78516.000000    78516.000000  \n",
              "mean          8860.646773   2012.330773      6.708212      708.265857  \n",
              "std           6065.762961      1.206514      3.666418       46.983138  \n",
              "min           1000.000000   2009.000000      1.000000      609.500000  \n",
              "25%           4000.000000   2012.000000      3.000000      669.500000  \n",
              "50%           7500.000000   2013.000000      7.000000      709.500000  \n",
              "75%          13000.000000   2013.000000     10.000000      729.500000  \n",
              "max          35000.000000   2014.000000     12.000000      889.500000  "
            ]
          },
          "execution_count": 33,
          "metadata": {},
          "output_type": "execute_result"
        }
      ],
      "source": [
        "new_df.describe()"
      ]
    },
    {
      "cell_type": "code",
      "execution_count": null,
      "id": "97a4a3cf",
      "metadata": {
        "id": "97a4a3cf",
        "outputId": "c3dccc65-f883-4489-b772-c496606564ca"
      },
      "outputs": [
        {
          "data": {
            "text/plain": [
              "[Current                   52324\n",
              " Completed                 18304\n",
              " Chargedoff                 4895\n",
              " Past Due                   1878\n",
              " Defaulted                   927\n",
              " FinalPaymentInProgress      188\n",
              " Name: LoanStatus, dtype: int64,\n",
              " C     17133\n",
              " B     14505\n",
              " A     13463\n",
              " D     13346\n",
              " E      9128\n",
              " HR     6060\n",
              " AA     4881\n",
              " Name: ProsperRating (Alpha), dtype: int64,\n",
              " Debt_Consolidation    49242\n",
              " Other                  8628\n",
              " Home_Improvement       6145\n",
              " Business               4884\n",
              " Auto                   2137\n",
              " Household_Expenses     1850\n",
              " Medical/Dental         1393\n",
              " Large_Purchases         811\n",
              " Taxes                   767\n",
              " Vacation                721\n",
              " Wedding_Loans           710\n",
              " Motorcycle              293\n",
              " Student_Use             254\n",
              " Engagement_Ring         206\n",
              " Baby&Adoption           183\n",
              " Cosmetic_Procedure       90\n",
              " Boat                     83\n",
              " Green_Loans              54\n",
              " RV                       46\n",
              " Not_Available            19\n",
              " Name: ListingCategory, dtype: int64,\n",
              " CA    9938\n",
              " NY    5316\n",
              " TX    5064\n",
              " FL    5052\n",
              " IL    4001\n",
              " OH    3139\n",
              " GA    3092\n",
              " VA    2539\n",
              " PA    2480\n",
              " MI    2466\n",
              " NJ    2458\n",
              " NC    2256\n",
              " MD    2076\n",
              " WA    2037\n",
              " MA    1685\n",
              " MO    1679\n",
              " MN    1633\n",
              " CO    1609\n",
              " IN    1557\n",
              " WI    1429\n",
              " TN    1420\n",
              " CT    1335\n",
              " AZ    1275\n",
              " OR    1144\n",
              " AL    1117\n",
              " NV     962\n",
              " SC     912\n",
              " KY     826\n",
              " KS     791\n",
              " LA     759\n",
              " AR     703\n",
              " OK     683\n",
              " MS     617\n",
              " NE     525\n",
              " UT     485\n",
              " NH     405\n",
              " RI     389\n",
              " ID     379\n",
              " HI     324\n",
              " WV     299\n",
              " DC     296\n",
              " NM     296\n",
              " DE     252\n",
              " MT     208\n",
              " SD     183\n",
              " VT     157\n",
              " AK     155\n",
              " WY     113\n",
              " Name: BorrowerState, dtype: int64,\n",
              " Other                          20021\n",
              " Professional                    9675\n",
              " Computer Programmer             3083\n",
              " Teacher                         2757\n",
              " Analyst                         2601\n",
              "                                ...  \n",
              " Student - College Freshman        17\n",
              " Student - College Sophomore       14\n",
              " Judge                             14\n",
              " Student - Community College        9\n",
              " Student - Technical School         2\n",
              " Name: Occupation, Length: 68, dtype: int64,\n",
              " Employed         62305\n",
              " Full-time         7363\n",
              " Self-employed     4196\n",
              " Other             3464\n",
              " Not employed       649\n",
              " Retired            329\n",
              " Part-time          210\n",
              " Name: EmploymentStatus, dtype: int64,\n",
              " $50,000-74,999    25229\n",
              " $25,000-49,999    22944\n",
              " $75,000-99,999    14438\n",
              " $100,000+         11400\n",
              " $1-24,999          3811\n",
              " Not employed        649\n",
              " $0                   45\n",
              " Name: IncomeRange, dtype: int64]"
            ]
          },
          "execution_count": 34,
          "metadata": {},
          "output_type": "execute_result"
        }
      ],
      "source": [
        "[new_df[category].value_counts() for category in Obj]"
      ]
    },
    {
      "cell_type": "markdown",
      "id": "61909e57",
      "metadata": {
        "id": "61909e57"
      },
      "source": [
        "## Feature Engineering"
      ]
    },
    {
      "cell_type": "markdown",
      "id": "7400216d",
      "metadata": {
        "id": "7400216d"
      },
      "source": [
        "### Using Label Encoder & One Hot Encoder Functions"
      ]
    },
    {
      "cell_type": "code",
      "execution_count": null,
      "id": "a3c749fb",
      "metadata": {
        "id": "a3c749fb",
        "outputId": "f89423bd-1e87-42dc-bda1-4a3999057ef3"
      },
      "outputs": [
        {
          "name": "stdout",
          "output_type": "stream",
          "text": [
            "   0   1   2   3   4   5   6   7   8   9   ...  31  32  33  34  35  36  37  \\\n",
            "0   1   0   0   0   0   0   0   0   0   0  ...   0   0   0   1   0   0   0   \n",
            "1   1   0   0   0   0   0   0   0   0   0  ...   0   0   0   1   0   0   0   \n",
            "2   0   0   0   0   1   0   0   0   0   1  ...   0   0   0   1   0   0   0   \n",
            "3   0   0   1   0   0   0   0   0   0   1  ...   0   0   0   1   0   0   0   \n",
            "4   0   0   0   0   0   1   0   0   0   0  ...   0   0   0   1   0   0   0   \n",
            "5   0   0   0   1   0   0   0   0   0   0  ...   0   0   0   1   0   0   0   \n",
            "6   0   1   0   0   0   0   0   0   0   0  ...   0   0   0   1   0   0   0   \n",
            "\n",
            "   38  39  40  \n",
            "0   0   0   0  \n",
            "1   0   0   0  \n",
            "2   0   0   0  \n",
            "3   0   0   0  \n",
            "4   0   0   0  \n",
            "5   0   0   0  \n",
            "6   0   0   0  \n",
            "\n",
            "[7 rows x 41 columns]\n",
            "Index(['ProsperRating (Alpha)_A', 'ProsperRating (Alpha)_AA',\n",
            "       'ProsperRating (Alpha)_B', 'ProsperRating (Alpha)_C',\n",
            "       'ProsperRating (Alpha)_D', 'ProsperRating (Alpha)_E',\n",
            "       'ProsperRating (Alpha)_HR', 'IncomeRange_$0', 'IncomeRange_$1-24,999',\n",
            "       'IncomeRange_$100,000+', 'IncomeRange_$25,000-49,999',\n",
            "       'IncomeRange_$50,000-74,999', 'IncomeRange_$75,000-99,999',\n",
            "       'IncomeRange_Not employed', 'ListingCategory_Auto',\n",
            "       'ListingCategory_Baby&Adoption', 'ListingCategory_Boat',\n",
            "       'ListingCategory_Business', 'ListingCategory_Cosmetic_Procedure',\n",
            "       'ListingCategory_Debt_Consolidation', 'ListingCategory_Engagement_Ring',\n",
            "       'ListingCategory_Green_Loans', 'ListingCategory_Home_Improvement',\n",
            "       'ListingCategory_Household_Expenses', 'ListingCategory_Large_Purchases',\n",
            "       'ListingCategory_Medical/Dental', 'ListingCategory_Motorcycle',\n",
            "       'ListingCategory_Not_Available', 'ListingCategory_Other',\n",
            "       'ListingCategory_RV', 'ListingCategory_Student_Use',\n",
            "       'ListingCategory_Taxes', 'ListingCategory_Vacation',\n",
            "       'ListingCategory_Wedding_Loans', 'EmploymentStatus_Employed',\n",
            "       'EmploymentStatus_Full-time', 'EmploymentStatus_Not employed',\n",
            "       'EmploymentStatus_Other', 'EmploymentStatus_Part-time',\n",
            "       'EmploymentStatus_Retired', 'EmploymentStatus_Self-employed'],\n",
            "      dtype='object')\n",
            "Int64Index([     1,      3,      4,      5,      6,      7,      8,      9,\n",
            "                10,     12,\n",
            "            ...\n",
            "            113925, 113928, 113929, 113930, 113931, 113932, 113933, 113934,\n",
            "            113935, 113936],\n",
            "           dtype='int64', length=78516)\n"
          ]
        },
        {
          "name": "stderr",
          "output_type": "stream",
          "text": [
            "C:\\Users\\WAGDY 10\\anaconda3\\lib\\site-packages\\sklearn\\utils\\deprecation.py:87: FutureWarning: Function get_feature_names is deprecated; get_feature_names is deprecated in 1.0 and will be removed in 1.2. Please use get_feature_names_out instead.\n",
            "  warnings.warn(msg, category=FutureWarning)\n"
          ]
        }
      ],
      "source": [
        "cols = ['ProsperRating (Alpha)','IncomeRange', 'ListingCategory', 'EmploymentStatus']\n",
        "OH_encoder = OneHotEncoder(handle_unknown='ignore', sparse=False)\n",
        "\n",
        "new_oh = pd.DataFrame(OH_encoder.fit_transform(new_df[cols])).astype('int64')\n",
        "print(new_oh.head(7))\n",
        "\n",
        "new_oh.columns = OH_encoder.get_feature_names(cols)\n",
        "print(new_oh.columns)\n",
        "\n",
        "new_oh.index = new_df.index\n",
        "print(new_oh.index)\n",
        "\n",
        "new_he = pd.concat([new_df, new_oh], axis=1)\n",
        "new_he = new_he.drop(['ProsperRating (Alpha)','IncomeRange', 'ListingCategory', 'EmploymentStatus'], axis= 1)"
      ]
    },
    {
      "cell_type": "code",
      "execution_count": null,
      "id": "b753aca5",
      "metadata": {
        "id": "b753aca5"
      },
      "outputs": [],
      "source": [
        "new_he['Occupation']= label_encoder(new_he['Occupation'])\n",
        "new_he['BorrowerState']= label_encoder(new_he['BorrowerState'])\n",
        "new_he['LoanStatus']= label_encoder(new_he['LoanStatus'])\n",
        "new_he['ListingID']= label_encoder(new_he['ListingID'])"
      ]
    },
    {
      "cell_type": "code",
      "execution_count": null,
      "id": "20318acd",
      "metadata": {
        "id": "20318acd",
        "outputId": "e1a8d102-c900-4844-f4f4-1ec0af486414"
      },
      "outputs": [
        {
          "name": "stdout",
          "output_type": "stream",
          "text": [
            "<class 'pandas.core.frame.DataFrame'>\n",
            "Int64Index: 78516 entries, 1 to 113936\n",
            "Data columns (total 64 columns):\n",
            " #   Column                              Non-Null Count  Dtype         \n",
            "---  ------                              --------------  -----         \n",
            " 0   ListingID                           78516 non-null  int32         \n",
            " 1   ListingCreationDate                 78516 non-null  datetime64[ns]\n",
            " 2   Term                                78516 non-null  int64         \n",
            " 3   LoanStatus                          78516 non-null  int32         \n",
            " 4   BorrowerAPR                         78516 non-null  float64       \n",
            " 5   BorrowerRate                        78516 non-null  float64       \n",
            " 6   ProsperScore                        78516 non-null  int32         \n",
            " 7   BorrowerState                       78516 non-null  int32         \n",
            " 8   Occupation                          78516 non-null  int32         \n",
            " 9   IsBorrowerHomeowner                 78516 non-null  bool          \n",
            " 10  CreditScoreRangeLower               78516 non-null  float64       \n",
            " 11  CreditScoreRangeUpper               78516 non-null  float64       \n",
            " 12  CurrentCreditLines                  78516 non-null  int32         \n",
            " 13  OpenRevolvingAccounts               78516 non-null  int64         \n",
            " 14  DebtToIncomeRatio                   78516 non-null  float64       \n",
            " 15  IncomeVerifiable                    78516 non-null  bool          \n",
            " 16  StatedMonthlyIncome                 78516 non-null  float64       \n",
            " 17  LoanOriginalAmount                  78516 non-null  int64         \n",
            " 18  LoanOriginationDate                 78516 non-null  datetime64[ns]\n",
            " 19  Date                                78516 non-null  datetime64[ns]\n",
            " 20  Year                                78516 non-null  int64         \n",
            " 21  Month                               78516 non-null  int64         \n",
            " 22  AvgCreditScore                      78516 non-null  float64       \n",
            " 23  ProsperRating (Alpha)_A             78516 non-null  int64         \n",
            " 24  ProsperRating (Alpha)_AA            78516 non-null  int64         \n",
            " 25  ProsperRating (Alpha)_B             78516 non-null  int64         \n",
            " 26  ProsperRating (Alpha)_C             78516 non-null  int64         \n",
            " 27  ProsperRating (Alpha)_D             78516 non-null  int64         \n",
            " 28  ProsperRating (Alpha)_E             78516 non-null  int64         \n",
            " 29  ProsperRating (Alpha)_HR            78516 non-null  int64         \n",
            " 30  IncomeRange_$0                      78516 non-null  int64         \n",
            " 31  IncomeRange_$1-24,999               78516 non-null  int64         \n",
            " 32  IncomeRange_$100,000+               78516 non-null  int64         \n",
            " 33  IncomeRange_$25,000-49,999          78516 non-null  int64         \n",
            " 34  IncomeRange_$50,000-74,999          78516 non-null  int64         \n",
            " 35  IncomeRange_$75,000-99,999          78516 non-null  int64         \n",
            " 36  IncomeRange_Not employed            78516 non-null  int64         \n",
            " 37  ListingCategory_Auto                78516 non-null  int64         \n",
            " 38  ListingCategory_Baby&Adoption       78516 non-null  int64         \n",
            " 39  ListingCategory_Boat                78516 non-null  int64         \n",
            " 40  ListingCategory_Business            78516 non-null  int64         \n",
            " 41  ListingCategory_Cosmetic_Procedure  78516 non-null  int64         \n",
            " 42  ListingCategory_Debt_Consolidation  78516 non-null  int64         \n",
            " 43  ListingCategory_Engagement_Ring     78516 non-null  int64         \n",
            " 44  ListingCategory_Green_Loans         78516 non-null  int64         \n",
            " 45  ListingCategory_Home_Improvement    78516 non-null  int64         \n",
            " 46  ListingCategory_Household_Expenses  78516 non-null  int64         \n",
            " 47  ListingCategory_Large_Purchases     78516 non-null  int64         \n",
            " 48  ListingCategory_Medical/Dental      78516 non-null  int64         \n",
            " 49  ListingCategory_Motorcycle          78516 non-null  int64         \n",
            " 50  ListingCategory_Not_Available       78516 non-null  int64         \n",
            " 51  ListingCategory_Other               78516 non-null  int64         \n",
            " 52  ListingCategory_RV                  78516 non-null  int64         \n",
            " 53  ListingCategory_Student_Use         78516 non-null  int64         \n",
            " 54  ListingCategory_Taxes               78516 non-null  int64         \n",
            " 55  ListingCategory_Vacation            78516 non-null  int64         \n",
            " 56  ListingCategory_Wedding_Loans       78516 non-null  int64         \n",
            " 57  EmploymentStatus_Employed           78516 non-null  int64         \n",
            " 58  EmploymentStatus_Full-time          78516 non-null  int64         \n",
            " 59  EmploymentStatus_Not employed       78516 non-null  int64         \n",
            " 60  EmploymentStatus_Other              78516 non-null  int64         \n",
            " 61  EmploymentStatus_Part-time          78516 non-null  int64         \n",
            " 62  EmploymentStatus_Retired            78516 non-null  int64         \n",
            " 63  EmploymentStatus_Self-employed      78516 non-null  int64         \n",
            "dtypes: bool(2), datetime64[ns](3), float64(7), int32(6), int64(46)\n",
            "memory usage: 36.1 MB\n"
          ]
        }
      ],
      "source": [
        "new_he.info()"
      ]
    },
    {
      "cell_type": "code",
      "execution_count": null,
      "id": "d76e53c8",
      "metadata": {
        "id": "d76e53c8"
      },
      "outputs": [],
      "source": [
        "new_he.to_csv(\"New Prosper Loan Data Project1.csv\")"
      ]
    },
    {
      "cell_type": "code",
      "execution_count": null,
      "id": "41577eba",
      "metadata": {
        "id": "41577eba"
      },
      "outputs": [],
      "source": []
    }
  ],
  "metadata": {
    "kernelspec": {
      "display_name": "Python 3 (ipykernel)",
      "language": "python",
      "name": "python3"
    },
    "language_info": {
      "codemirror_mode": {
        "name": "ipython",
        "version": 3
      },
      "file_extension": ".py",
      "mimetype": "text/x-python",
      "name": "python",
      "nbconvert_exporter": "python",
      "pygments_lexer": "ipython3",
      "version": "3.9.13"
    },
    "colab": {
      "provenance": []
    }
  },
  "nbformat": 4,
  "nbformat_minor": 5
}